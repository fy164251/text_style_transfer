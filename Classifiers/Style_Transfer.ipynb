{
  "nbformat": 4,
  "nbformat_minor": 0,
  "metadata": {
    "colab": {
      "name": "Style Transfer.ipynb",
      "provenance": []
    },
    "kernelspec": {
      "name": "python3",
      "display_name": "Python 3"
    }
  },
  "cells": [
    {
      "cell_type": "code",
      "metadata": {
        "id": "rNxeBtweC0Vq",
        "colab_type": "code",
        "outputId": "f83e3a6b-79cf-4cbc-8de2-0cd8580dd180",
        "colab": {
          "base_uri": "https://localhost:8080/",
          "height": 34
        }
      },
      "source": [
        "import numpy as np\n",
        "import pandas as pd\n",
        "import matplotlib.pyplot as plt\n",
        "import tensorflow as tf\n",
        "import tensorflow_hub as hub\n",
        "\n",
        "%matplotlib inline\n",
        "\n",
        "from google.colab import drive\n",
        "drive.mount('/content/gdrive')"
      ],
      "execution_count": 5,
      "outputs": [
        {
          "output_type": "stream",
          "text": [
            "Drive already mounted at /content/gdrive; to attempt to forcibly remount, call drive.mount(\"/content/gdrive\", force_remount=True).\n"
          ],
          "name": "stdout"
        }
      ]
    },
    {
      "cell_type": "code",
      "metadata": {
        "id": "R9_lpw8kmpWY",
        "colab_type": "code",
        "colab": {}
      },
      "source": [
        "def read_txt(PATH, Ln=500):\n",
        "  txt = (open(PATH, 'r')).read()\n",
        "  txt = txt.replace('\\n', '')\n",
        "  l_1 = []\n",
        "  for i in range(len(txt)//Ln):\n",
        "    l_1.append(txt[i*Ln:(i+1)*Ln])\n",
        "  return l_1\n",
        "\n",
        "PATH = './gdrive/My Drive/DL/Style/Nabokov-all.txt'\n",
        "nktxt = read_txt(PATH)\n",
        "\n",
        "PATH2 = './gdrive/My Drive/DL/Style/Shakespeare-all.txt'\n",
        "sptxt = read_txt(PATH2)\n",
        "\n",
        "PATH3 = './gdrive/My Drive/DL/Style/Twain-all.txt'\n",
        "twtxt = read_txt(PATH3)\n"
      ],
      "execution_count": 0,
      "outputs": []
    },
    {
      "cell_type": "code",
      "metadata": {
        "id": "rZb8GvJW7o8b",
        "colab_type": "code",
        "colab": {}
      },
      "source": [
        "dict1 = {'text': nktxt, 'author': 'nabokov'}\n",
        "dict2 = {'text': sptxt, 'author': 'shakespeare'}\n",
        "dict3 = {'text': twtxt, 'author': 'twain'}\n",
        "\n",
        "\n",
        "nk = pd.DataFrame(dict1)\n",
        "sp = pd.DataFrame(dict2)\n",
        "tw = pd.DataFrame(dict3)\n",
        "\n",
        "author = [nk, sp, tw]\n",
        "df = pd.concat(author)\n",
        "\n",
        "spooky = pd.read_csv('./gdrive/My Drive/DL/NLP/Kaggle/SAI/train.csv').drop('id', axis=1)\n",
        "spooky['author'] = 'other'\n",
        "\n",
        "data = pd.concat([df, spooky])\n",
        "\n",
        "# data.to_csv(r'./gdrive/My Drive/DL/NLP/Kaggle/SAI/data.csv',index=False)"
      ],
      "execution_count": 0,
      "outputs": []
    },
    {
      "cell_type": "code",
      "metadata": {
        "id": "qN-9ceXdlZCq",
        "colab_type": "code",
        "outputId": "9b2566dc-6828-4bb2-8ea0-ef944d42daa3",
        "colab": {
          "base_uri": "https://localhost:8080/",
          "height": 102
        }
      },
      "source": [
        "X = data.text.astype('str')\n",
        "y = data.author.astype('category')\n",
        "\n",
        "from keras.preprocessing.text import Tokenizer\n",
        "from keras.preprocessing.sequence import pad_sequences\n",
        "\n",
        "max_words = 10000 \n",
        "\n",
        "tokenizer = Tokenizer(num_words=max_words, oov_token='<oov>') \n",
        "tokenizer.fit_on_texts(X) \n",
        "sequences = tokenizer.texts_to_sequences(X) \n",
        "word_index = tokenizer.word_index \n",
        "\n",
        "print('Found {} unique tokens.'.format(len(word_index)))\n",
        "\n",
        "maxlen = 256\n",
        "X = pad_sequences(sequences, maxlen=maxlen, truncating=\"post\")\n",
        "\n",
        "from sklearn.preprocessing import OneHotEncoder\n",
        "\n",
        "y = np.asarray(y)\n",
        "onehot_encoder = OneHotEncoder(sparse=False)\n",
        "encoded = y.reshape(len(y), 1)\n",
        "y = onehot_encoder.fit_transform(encoded)\n",
        "\n",
        "print('Shape of data tensor: ', X.shape)\n",
        "print('Shape of label tensor: ', y.shape)\n",
        "\n",
        "embeddings_index = {}\n",
        "gl_PATH = './gdrive/My Drive/DL/NLP/GloVe/glove.6B.200d.txt' \n",
        "f = open(gl_PATH)\n",
        "for line in f:\n",
        "  values = line.split()\n",
        "  word = values[0]\n",
        "  coefs = np.asarray(values[1:], dtype='float32')\n",
        "  embeddings_index[word] = coefs\n",
        "f.close()\n",
        "\n",
        "print('Found {} word vectors.'.format(len(embeddings_index)))\n",
        "\n",
        "embedding_dim = 200\n",
        "embedding_matrix = np.zeros((max_words, embedding_dim))\n",
        "for word, i in word_index.items(): \n",
        "  if i < max_words:\n",
        "    embedding_vector = embeddings_index.get(word)\n",
        "    if embedding_vector is not None:\n",
        "      embedding_matrix[i] = embedding_vector\n",
        "      \n",
        "\n",
        "from sklearn.model_selection import train_test_split\n",
        "\n",
        "X_train, X_val, y_train, y_val = train_test_split(X, y, test_size=0.2, random_state=1)\n",
        "X_val, X_test, y_val, y_test = train_test_split(X_val, y_val, test_size=0.5, random_state=1)\n",
        "\n",
        "tr, X, y, tokenizer, sequences, word_index, embeddings_index = [], [], [], [], [], [], []"
      ],
      "execution_count": 35,
      "outputs": [
        {
          "output_type": "stream",
          "text": [
            "Using TensorFlow backend.\n"
          ],
          "name": "stderr"
        },
        {
          "output_type": "stream",
          "text": [
            "Found 196364 unique tokens.\n",
            "Shape of data tensor:  (62195, 256)\n",
            "Shape of label tensor:  (62195, 4)\n",
            "Found 400000 word vectors.\n"
          ],
          "name": "stdout"
        }
      ]
    },
    {
      "cell_type": "code",
      "metadata": {
        "id": "dDHnvFgPqk-c",
        "colab_type": "code",
        "outputId": "3c4f205d-5a32-4ab2-ace9-9c6e0eee75ec",
        "colab": {
          "base_uri": "https://localhost:8080/",
          "height": 326
        }
      },
      "source": [
        "!pip install keras-layer-normalization\n",
        "\n",
        "import keras\n",
        "from keras.models import Sequential, Model, load_model\n",
        "from keras.layers import Embedding, LSTM, Dense, Input, Dropout, GRU, Conv1D, MaxPooling1D, BatchNormalization, Activation, concatenate\n",
        "from keras.layers import Bidirectional, Flatten, RepeatVector, Permute, Multiply, Lambda, TimeDistributed\n",
        "from keras import backend as K\n",
        "\n",
        "from keras.regularizers import l2\n",
        "from keras.optimizers import Adam\n",
        "from keras.callbacks import EarlyStopping, ModelCheckpoint\n",
        "\n",
        "from keras_layer_normalization import LayerNormalization"
      ],
      "execution_count": 36,
      "outputs": [
        {
          "output_type": "stream",
          "text": [
            "Collecting keras-layer-normalization\n",
            "  Downloading https://files.pythonhosted.org/packages/ea/f3/a92ce51219280eea003911722046db17eaebf5f26679a73887a5c357abe4/keras-layer-normalization-0.13.0.tar.gz\n",
            "Requirement already satisfied: numpy in /usr/local/lib/python3.6/dist-packages (from keras-layer-normalization) (1.17.3)\n",
            "Requirement already satisfied: Keras in /usr/local/lib/python3.6/dist-packages (from keras-layer-normalization) (2.2.5)\n",
            "Requirement already satisfied: h5py in /usr/local/lib/python3.6/dist-packages (from Keras->keras-layer-normalization) (2.8.0)\n",
            "Requirement already satisfied: pyyaml in /usr/local/lib/python3.6/dist-packages (from Keras->keras-layer-normalization) (3.13)\n",
            "Requirement already satisfied: six>=1.9.0 in /usr/local/lib/python3.6/dist-packages (from Keras->keras-layer-normalization) (1.12.0)\n",
            "Requirement already satisfied: keras-applications>=1.0.8 in /usr/local/lib/python3.6/dist-packages (from Keras->keras-layer-normalization) (1.0.8)\n",
            "Requirement already satisfied: scipy>=0.14 in /usr/local/lib/python3.6/dist-packages (from Keras->keras-layer-normalization) (1.3.1)\n",
            "Requirement already satisfied: keras-preprocessing>=1.1.0 in /usr/local/lib/python3.6/dist-packages (from Keras->keras-layer-normalization) (1.1.0)\n",
            "Building wheels for collected packages: keras-layer-normalization\n",
            "  Building wheel for keras-layer-normalization (setup.py) ... \u001b[?25l\u001b[?25hdone\n",
            "  Created wheel for keras-layer-normalization: filename=keras_layer_normalization-0.13.0-cp36-none-any.whl size=5209 sha256=a8f771ef76165bb5360134a4e92f86ee6ca1b60afc611804985280b2d3e19234\n",
            "  Stored in directory: /root/.cache/pip/wheels/50/2b/71/d1d06f71d78c46a9912dc89a5bb46f357cf64fa05883fadc64\n",
            "Successfully built keras-layer-normalization\n",
            "Installing collected packages: keras-layer-normalization\n",
            "Successfully installed keras-layer-normalization-0.13.0\n"
          ],
          "name": "stdout"
        }
      ]
    },
    {
      "cell_type": "code",
      "metadata": {
        "id": "MA_l5NSVqxro",
        "colab_type": "code",
        "outputId": "9ca0a360-8384-43f7-f970-f46e1b1e93ae",
        "colab": {
          "base_uri": "https://localhost:8080/",
          "height": 1000
        }
      },
      "source": [
        "units = 32\n",
        "lr = 0.0005\n",
        "patience = 5\n",
        "\n",
        "\n",
        "inputs = Input(shape=(256,), dtype='int32')\n",
        "x = Embedding(max_words, embedding_dim, input_length=maxlen)(inputs)\n",
        "\n",
        "x = Conv1D(units * 2, \n",
        "           7,\n",
        "           padding=\"same\",\n",
        "           kernel_regularizer=l2(0.01),\n",
        "           kernel_initializer=keras.initializers.he_normal(seed=42))(x)\n",
        "x = BatchNormalization()(x)\n",
        "c = Activation('relu')(x)\n",
        "\n",
        "b = GRU(units,\n",
        "        return_sequences=True,        \n",
        "        kernel_initializer=keras.initializers.Orthogonal(seed=42),\n",
        "        dropout=0.2, recurrent_dropout=0.2\n",
        "        )(x)\n",
        "x = LayerNormalization()(b)\n",
        "\n",
        "c = concatenate([c, x])\n",
        "\n",
        "b = GRU(units,\n",
        "        return_sequences=True,        \n",
        "        kernel_initializer=keras.initializers.Orthogonal(seed=42),\n",
        "        # dropout=0.2, recurrent_dropout=0.2\n",
        "        )(c)\n",
        "x = LayerNormalization()(b)\n",
        "\n",
        "c = concatenate([c, x])\n",
        "c = Flatten()(c)\n",
        "\n",
        "outputs = Dense(4, activation=\"softmax\")(c)\n",
        "\n",
        "model = Model(inputs=inputs, outputs=outputs)\n",
        "\n",
        "model.layers[1].set_weights([embedding_matrix])\n",
        "model.layers[1].trainable = False\n",
        "\n",
        "model.compile(optimizer=Adam(lr=lr),\n",
        "              loss=\"categorical_crossentropy\",\n",
        "              metrics=[\"acc\"])\n",
        "\n",
        "model.fit(x=X_train,\n",
        "          y=y_train,\n",
        "          validation_data=[X_val, y_val],\n",
        "          epochs=patience, \n",
        "          batch_size=2048)\n",
        "\n",
        "cb = EarlyStopping(monitor='val_loss', \n",
        "                   mode='min', \n",
        "                   verbose=0, \n",
        "                   patience=patience,\n",
        "                   restore_best_weights=True)\n",
        "\n",
        "model.compile(optimizer=Adam(lr=lr/3),\n",
        "              loss=\"categorical_crossentropy\",\n",
        "              metrics=[\"acc\"])\n",
        "\n",
        "model.fit(x=X_train, \n",
        "          y=y_train,\n",
        "          validation_data=[X_val, y_val],\n",
        "          epochs=99, \n",
        "          batch_size=2048,\n",
        "          callbacks=[cb])\n",
        "\n",
        "model.compile(optimizer=Adam(lr=lr/6),\n",
        "              loss=\"categorical_crossentropy\",\n",
        "              metrics=[\"acc\"])\n",
        "\n",
        "model.fit(x=X_train, \n",
        "          y=y_train,\n",
        "          validation_data=[X_val, y_val],\n",
        "          epochs=99, \n",
        "          batch_size=2048,\n",
        "          callbacks=[cb])\n",
        "\n",
        "\n",
        "print('===Evaluation===')\n",
        "model.evaluate(X_test, y_test)"
      ],
      "execution_count": 0,
      "outputs": [
        {
          "output_type": "stream",
          "text": [
            "WARNING:tensorflow:From /usr/local/lib/python3.6/dist-packages/keras/backend/tensorflow_backend.py:66: The name tf.get_default_graph is deprecated. Please use tf.compat.v1.get_default_graph instead.\n",
            "\n",
            "WARNING:tensorflow:From /usr/local/lib/python3.6/dist-packages/keras/backend/tensorflow_backend.py:541: The name tf.placeholder is deprecated. Please use tf.compat.v1.placeholder instead.\n",
            "\n",
            "WARNING:tensorflow:From /usr/local/lib/python3.6/dist-packages/keras/backend/tensorflow_backend.py:4432: The name tf.random_uniform is deprecated. Please use tf.random.uniform instead.\n",
            "\n",
            "WARNING:tensorflow:From /usr/local/lib/python3.6/dist-packages/keras/backend/tensorflow_backend.py:4479: The name tf.truncated_normal is deprecated. Please use tf.random.truncated_normal instead.\n",
            "\n",
            "WARNING:tensorflow:From /usr/local/lib/python3.6/dist-packages/keras/backend/tensorflow_backend.py:148: The name tf.placeholder_with_default is deprecated. Please use tf.compat.v1.placeholder_with_default instead.\n",
            "\n",
            "WARNING:tensorflow:From /usr/local/lib/python3.6/dist-packages/keras/backend/tensorflow_backend.py:3733: calling dropout (from tensorflow.python.ops.nn_ops) with keep_prob is deprecated and will be removed in a future version.\n",
            "Instructions for updating:\n",
            "Please use `rate` instead of `keep_prob`. Rate should be set to `rate = 1 - keep_prob`.\n",
            "WARNING:tensorflow:From /usr/local/lib/python3.6/dist-packages/keras/backend/tensorflow_backend.py:190: The name tf.get_default_session is deprecated. Please use tf.compat.v1.get_default_session instead.\n",
            "\n",
            "WARNING:tensorflow:From /usr/local/lib/python3.6/dist-packages/keras/backend/tensorflow_backend.py:197: The name tf.ConfigProto is deprecated. Please use tf.compat.v1.ConfigProto instead.\n",
            "\n",
            "WARNING:tensorflow:From /usr/local/lib/python3.6/dist-packages/keras/backend/tensorflow_backend.py:203: The name tf.Session is deprecated. Please use tf.compat.v1.Session instead.\n",
            "\n",
            "WARNING:tensorflow:From /usr/local/lib/python3.6/dist-packages/keras/backend/tensorflow_backend.py:207: The name tf.global_variables is deprecated. Please use tf.compat.v1.global_variables instead.\n",
            "\n",
            "WARNING:tensorflow:From /usr/local/lib/python3.6/dist-packages/keras/backend/tensorflow_backend.py:216: The name tf.is_variable_initialized is deprecated. Please use tf.compat.v1.is_variable_initialized instead.\n",
            "\n",
            "WARNING:tensorflow:From /usr/local/lib/python3.6/dist-packages/keras/backend/tensorflow_backend.py:223: The name tf.variables_initializer is deprecated. Please use tf.compat.v1.variables_initializer instead.\n",
            "\n",
            "WARNING:tensorflow:From /usr/local/lib/python3.6/dist-packages/keras/optimizers.py:793: The name tf.train.Optimizer is deprecated. Please use tf.compat.v1.train.Optimizer instead.\n",
            "\n",
            "WARNING:tensorflow:From /usr/local/lib/python3.6/dist-packages/keras/backend/tensorflow_backend.py:3576: The name tf.log is deprecated. Please use tf.math.log instead.\n",
            "\n",
            "WARNING:tensorflow:From /usr/local/lib/python3.6/dist-packages/tensorflow_core/python/ops/math_grad.py:1424: where (from tensorflow.python.ops.array_ops) is deprecated and will be removed in a future version.\n",
            "Instructions for updating:\n",
            "Use tf.where in 2.0, which has the same broadcast rule as np.where\n",
            "WARNING:tensorflow:From /usr/local/lib/python3.6/dist-packages/keras/backend/tensorflow_backend.py:1033: The name tf.assign_add is deprecated. Please use tf.compat.v1.assign_add instead.\n",
            "\n",
            "WARNING:tensorflow:From /usr/local/lib/python3.6/dist-packages/keras/backend/tensorflow_backend.py:1020: The name tf.assign is deprecated. Please use tf.compat.v1.assign instead.\n",
            "\n",
            "Train on 49756 samples, validate on 6219 samples\n",
            "Epoch 1/5\n",
            "49756/49756 [==============================] - 293s 6ms/step - loss: 2.6936 - acc: 0.6062 - val_loss: 1.8141 - val_acc: 0.7321\n",
            "Epoch 2/5\n",
            "49756/49756 [==============================] - 290s 6ms/step - loss: 1.6502 - acc: 0.7922 - val_loss: 1.5308 - val_acc: 0.8207\n",
            "Epoch 3/5\n",
            "49756/49756 [==============================] - 286s 6ms/step - loss: 1.3639 - acc: 0.8630 - val_loss: 1.2694 - val_acc: 0.8706\n",
            "Epoch 4/5\n",
            "49756/49756 [==============================] - 285s 6ms/step - loss: 1.1749 - acc: 0.8916 - val_loss: 1.1942 - val_acc: 0.8612\n",
            "Epoch 5/5\n",
            "49756/49756 [==============================] - 285s 6ms/step - loss: 1.0326 - acc: 0.9062 - val_loss: 1.2109 - val_acc: 0.8159\n",
            "Train on 49756 samples, validate on 6219 samples\n",
            "Epoch 1/99\n",
            "49756/49756 [==============================] - 285s 6ms/step - loss: 1.0336 - acc: 0.8813 - val_loss: 1.0175 - val_acc: 0.8815\n",
            "Epoch 2/99\n",
            "49756/49756 [==============================] - 283s 6ms/step - loss: 0.9086 - acc: 0.9173 - val_loss: 1.0425 - val_acc: 0.8577\n",
            "Epoch 3/99\n",
            "49756/49756 [==============================] - 283s 6ms/step - loss: 0.8542 - acc: 0.9249 - val_loss: 1.0025 - val_acc: 0.8559\n",
            "Epoch 4/99\n",
            "49756/49756 [==============================] - 286s 6ms/step - loss: 0.8083 - acc: 0.9283 - val_loss: 0.9644 - val_acc: 0.8545\n",
            "Epoch 5/99\n",
            "49756/49756 [==============================] - 289s 6ms/step - loss: 0.7607 - acc: 0.9323 - val_loss: 0.8864 - val_acc: 0.8754\n",
            "Epoch 6/99\n",
            "49756/49756 [==============================] - 288s 6ms/step - loss: 0.7153 - acc: 0.9361 - val_loss: 0.8347 - val_acc: 0.8828\n",
            "Epoch 7/99\n",
            "49756/49756 [==============================] - 285s 6ms/step - loss: 0.6716 - acc: 0.9410 - val_loss: 0.7750 - val_acc: 0.8944\n",
            "Epoch 8/99\n",
            "49756/49756 [==============================] - 284s 6ms/step - loss: 0.6313 - acc: 0.9435 - val_loss: 0.7551 - val_acc: 0.8919\n",
            "Epoch 9/99\n",
            "49756/49756 [==============================] - 285s 6ms/step - loss: 0.5921 - acc: 0.9489 - val_loss: 0.7254 - val_acc: 0.8921\n",
            "Epoch 10/99\n",
            "49756/49756 [==============================] - 286s 6ms/step - loss: 0.5594 - acc: 0.9510 - val_loss: 0.7131 - val_acc: 0.8871\n",
            "Epoch 11/99\n",
            "49756/49756 [==============================] - 290s 6ms/step - loss: 0.5223 - acc: 0.9566 - val_loss: 0.6395 - val_acc: 0.9079\n",
            "Epoch 12/99\n",
            "49756/49756 [==============================] - 292s 6ms/step - loss: 0.4930 - acc: 0.9586 - val_loss: 0.7948 - val_acc: 0.8489\n",
            "Epoch 13/99\n",
            "49756/49756 [==============================] - 291s 6ms/step - loss: 0.4662 - acc: 0.9604 - val_loss: 0.6918 - val_acc: 0.8736\n",
            "Epoch 14/99\n",
            "49756/49756 [==============================] - 291s 6ms/step - loss: 0.4377 - acc: 0.9650 - val_loss: 0.5753 - val_acc: 0.9106\n",
            "Epoch 15/99\n",
            "49756/49756 [==============================] - 291s 6ms/step - loss: 0.4128 - acc: 0.9684 - val_loss: 0.5720 - val_acc: 0.9069\n",
            "Epoch 16/99\n",
            "49756/49756 [==============================] - 294s 6ms/step - loss: 0.3903 - acc: 0.9712 - val_loss: 0.5492 - val_acc: 0.9091\n",
            "Epoch 17/99\n",
            "49756/49756 [==============================] - 293s 6ms/step - loss: 0.3689 - acc: 0.9737 - val_loss: 0.5050 - val_acc: 0.9207\n",
            "Epoch 18/99\n",
            "49756/49756 [==============================] - 294s 6ms/step - loss: 0.3508 - acc: 0.9753 - val_loss: 0.5942 - val_acc: 0.8876\n",
            "Epoch 19/99\n",
            "49756/49756 [==============================] - 294s 6ms/step - loss: 0.3308 - acc: 0.9792 - val_loss: 0.4728 - val_acc: 0.9249\n",
            "Epoch 20/99\n",
            "49756/49756 [==============================] - 294s 6ms/step - loss: 0.3127 - acc: 0.9813 - val_loss: 0.4677 - val_acc: 0.9238\n",
            "Epoch 21/99\n",
            "36864/49756 [=====================>........] - ETA: 1:13 - loss: 0.2982 - acc: 0.9846"
          ],
          "name": "stdout"
        }
      ]
    },
    {
      "cell_type": "code",
      "metadata": {
        "id": "iitJiRyFrRH8",
        "colab_type": "code",
        "colab": {}
      },
      "source": [
        "model.save('./gdrive/My Drive/DL/NLP/Kaggle/SAI/model_2.h5')"
      ],
      "execution_count": 0,
      "outputs": []
    },
    {
      "cell_type": "code",
      "metadata": {
        "id": "ZcK0L92Xxtcd",
        "colab_type": "code",
        "colab": {}
      },
      "source": [
        ""
      ],
      "execution_count": 0,
      "outputs": []
    },
    {
      "cell_type": "code",
      "metadata": {
        "id": "WbPBOOyix9IY",
        "colab_type": "code",
        "colab": {}
      },
      "source": [
        ""
      ],
      "execution_count": 0,
      "outputs": []
    }
  ]
}