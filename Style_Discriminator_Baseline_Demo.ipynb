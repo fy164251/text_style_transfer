{
  "nbformat": 4,
  "nbformat_minor": 0,
  "metadata": {
    "colab": {
      "name": "Style_Discriminator_Baseline_Demo.ipynb",
      "provenance": [],
      "collapsed_sections": []
    },
    "kernelspec": {
      "name": "python3",
      "display_name": "Python 3"
    },
    "accelerator": "GPU"
  },
  "cells": [
    {
      "cell_type": "code",
      "metadata": {
        "id": "rNxeBtweC0Vq",
        "colab_type": "code",
        "outputId": "b8e2d816-9412-46a3-ff18-428d90f76714",
        "colab": {
          "base_uri": "https://localhost:8080/",
          "height": 168
        }
      },
      "source": [
        "import numpy as np\n",
        "import pandas as pd\n",
        "import matplotlib.pyplot as plt\n",
        "import tensorflow as tf\n",
        "import tensorflow_hub as hub\n",
        "from tensorflow import keras\n",
        "\n",
        "%matplotlib inline\n",
        "\n",
        "from google.colab import drive\n",
        "drive.mount('/content/gdrive')"
      ],
      "execution_count": 0,
      "outputs": [
        {
          "output_type": "display_data",
          "data": {
            "text/html": [
              "<p style=\"color: red;\">\n",
              "The default version of TensorFlow in Colab will soon switch to TensorFlow 2.x.<br>\n",
              "We recommend you <a href=\"https://www.tensorflow.org/guide/migrate\" target=\"_blank\">upgrade</a> now \n",
              "or ensure your notebook will continue to use TensorFlow 1.x via the <code>%tensorflow_version 1.x</code> magic:\n",
              "<a href=\"https://colab.research.google.com/notebooks/tensorflow_version.ipynb\" target=\"_blank\">more info</a>.</p>\n"
            ],
            "text/plain": [
              "<IPython.core.display.HTML object>"
            ]
          },
          "metadata": {
            "tags": []
          }
        },
        {
          "output_type": "stream",
          "text": [
            "Go to this URL in a browser: https://accounts.google.com/o/oauth2/auth?client_id=947318989803-6bn6qk8qdgf4n4g3pfee6491hc0brc4i.apps.googleusercontent.com&redirect_uri=urn%3Aietf%3Awg%3Aoauth%3A2.0%3Aoob&scope=email%20https%3A%2F%2Fwww.googleapis.com%2Fauth%2Fdocs.test%20https%3A%2F%2Fwww.googleapis.com%2Fauth%2Fdrive%20https%3A%2F%2Fwww.googleapis.com%2Fauth%2Fdrive.photos.readonly%20https%3A%2F%2Fwww.googleapis.com%2Fauth%2Fpeopleapi.readonly&response_type=code\n",
            "\n",
            "Enter your authorization code:\n",
            "··········\n",
            "Mounted at /content/gdrive\n"
          ],
          "name": "stdout"
        }
      ]
    },
    {
      "cell_type": "code",
      "metadata": {
        "id": "R9_lpw8kmpWY",
        "colab_type": "code",
        "colab": {}
      },
      "source": [
        "def read_txt(PATH, Ln=600):\n",
        "  '''\n",
        "  Cut raw texts in to chunks of 600 characters.\n",
        "  '''\n",
        "\n",
        "  txt = (open(PATH, 'r')).read()\n",
        "  txt = txt.replace('\\n', ' ')\n",
        "  l_1 = []\n",
        "  for i in range(len(txt)//Ln):\n",
        "    l_1.append(txt[i*Ln:(i+1)*Ln])\n",
        "  return l_1"
      ],
      "execution_count": 0,
      "outputs": []
    },
    {
      "cell_type": "code",
      "metadata": {
        "id": "xU4cNNrF8waU",
        "colab_type": "code",
        "colab": {}
      },
      "source": [
        "def replace_broken_words(df, author):\n",
        "  '''\n",
        "  Broken words at the beginnig and the end of each chunk are removed.\n",
        "  '''\n",
        "\n",
        "  l1 = []\n",
        "  for t in df['text']:\n",
        "    l2 = []\n",
        "    for i, v in enumerate(t):\n",
        "      if v == ' ':\n",
        "        l2.append(i)\n",
        "    s = l2[0]\n",
        "    e = l2[-1]\n",
        "    l1.append(t[s:e])\n",
        "  \n",
        "  df1 = pd.DataFrame(l1)\n",
        "  df1['author'] = author\n",
        "  df1.rename(columns={0:'text'}, inplace=True)\n",
        "  return df1"
      ],
      "execution_count": 0,
      "outputs": []
    },
    {
      "cell_type": "code",
      "metadata": {
        "id": "rZb8GvJW7o8b",
        "colab_type": "code",
        "colab": {}
      },
      "source": [
        "# Data Preparation\n",
        "\n",
        "PATH = './gdrive/My Drive/DL/Style/Nabokov-all.txt'\n",
        "natxt = read_txt(PATH)\n",
        "\n",
        "PATH2 = './gdrive/My Drive/DL/Style/Austen-all.txt'\n",
        "autxt = read_txt(PATH2)\n",
        "\n",
        "PATH3 = './gdrive/My Drive/DL/Style/Dumas-all.txt'\n",
        "dutxt = read_txt(PATH3)\n",
        "\n",
        "dict1 = {'text': natxt, 'author': 'Nabokov'}\n",
        "dict2 = {'text': autxt, 'author': 'Austen'}\n",
        "dict3 = {'text': dutxt, 'author': 'Dumas'}\n",
        "\n",
        "\n",
        "na = pd.DataFrame(dict1)\n",
        "au = pd.DataFrame(dict2)\n",
        "du = pd.DataFrame(dict3)\n",
        "\n",
        "na = replace_broken_words(na, 'Nabokov')\n",
        "au = replace_broken_words(au, 'Austen')\n",
        "du = replace_broken_words(du, 'Dumas')\n",
        "\n",
        "author = [na, au, du]\n",
        "\n",
        "df = pd.concat(author)"
      ],
      "execution_count": 0,
      "outputs": []
    },
    {
      "cell_type": "code",
      "metadata": {
        "id": "qN-9ceXdlZCq",
        "colab_type": "code",
        "outputId": "aa21e822-a0c5-4748-b49c-5a6cbde88d32",
        "colab": {
          "base_uri": "https://localhost:8080/",
          "height": 102
        }
      },
      "source": [
        "X = df.text.astype('str')\n",
        "\n",
        "from keras.preprocessing.text import Tokenizer\n",
        "from keras.preprocessing.sequence import pad_sequences\n",
        "\n",
        "max_words = 10000  # We will keep only the 10000 most common words\n",
        "\n",
        "tokenizer = Tokenizer(num_words=max_words, oov_token='<oov>') \n",
        "tokenizer.fit_on_texts(X) \n",
        "sequences = tokenizer.texts_to_sequences(X) # list: string - numbers(indices)\n",
        "word_index = tokenizer.word_index # dict: word - number(index)\n",
        "\n",
        "# Furthermore, we need to pad the sequences so that their lengths are the same and do not exceed a specific maximum length.\n",
        "maxlen = 256\n",
        "X = pad_sequences(sequences, maxlen=maxlen, truncating=\"post\")\n",
        "\n",
        "from sklearn.preprocessing import OneHotEncoder\n",
        "\n",
        "embeddings_index = {}\n",
        "gl_PATH = './gdrive/My Drive/DL/NLP/GloVe/glove.6B.200d.txt' \n",
        "f = open(gl_PATH)\n",
        "for line in f:\n",
        "  values = line.split()\n",
        "  word = values[0]\n",
        "  coefs = np.asarray(values[1:], dtype='float32')\n",
        "  embeddings_index[word] = coefs\n",
        "f.close()\n",
        "\n",
        "embedding_dim = 200\n",
        "embedding_matrix = np.zeros((max_words, embedding_dim))\n",
        "for word, i in word_index.items(): \n",
        "  if i < max_words:\n",
        "    embedding_vector = embeddings_index.get(word)\n",
        "    if embedding_vector is not None:\n",
        "      embedding_matrix[i] = embedding_vector"
      ],
      "execution_count": 0,
      "outputs": [
        {
          "output_type": "stream",
          "text": [
            "Using TensorFlow backend.\n"
          ],
          "name": "stderr"
        },
        {
          "output_type": "stream",
          "text": [
            "Found 80526 unique tokens.\n",
            "Shape of data tensor:  (35874, 256)\n",
            "Shape of label tensor:  (35874, 3)\n",
            "Found 400000 word vectors.\n"
          ],
          "name": "stdout"
        }
      ]
    },
    {
      "cell_type": "code",
      "metadata": {
        "id": "1kBKKxGbfWx_",
        "colab_type": "code",
        "outputId": "a044a706-3d80-4a05-bda9-c5b5a4f4bb75",
        "colab": {
          "base_uri": "https://localhost:8080/",
          "height": 683
        }
      },
      "source": [
        "# Test demo using donor texts, results are stored on github\n",
        "from keras.models import load_model\n",
        "model = load_model('./gdrive/My Drive/DL/Style/model_base.h5', custom_objects={'LayerNormalization': LayerNormalization})"
      ],
      "execution_count": 0,
      "outputs": [
        {
          "output_type": "stream",
          "text": [
            "WARNING:tensorflow:From /usr/local/lib/python3.6/dist-packages/keras/backend/tensorflow_backend.py:541: The name tf.placeholder is deprecated. Please use tf.compat.v1.placeholder instead.\n",
            "\n",
            "WARNING:tensorflow:From /usr/local/lib/python3.6/dist-packages/keras/backend/tensorflow_backend.py:66: The name tf.get_default_graph is deprecated. Please use tf.compat.v1.get_default_graph instead.\n",
            "\n",
            "WARNING:tensorflow:From /usr/local/lib/python3.6/dist-packages/keras/backend/tensorflow_backend.py:4432: The name tf.random_uniform is deprecated. Please use tf.random.uniform instead.\n",
            "\n",
            "WARNING:tensorflow:From /usr/local/lib/python3.6/dist-packages/keras/backend/tensorflow_backend.py:4479: The name tf.truncated_normal is deprecated. Please use tf.random.truncated_normal instead.\n",
            "\n",
            "WARNING:tensorflow:From /usr/local/lib/python3.6/dist-packages/keras/backend/tensorflow_backend.py:148: The name tf.placeholder_with_default is deprecated. Please use tf.compat.v1.placeholder_with_default instead.\n",
            "\n",
            "WARNING:tensorflow:From /usr/local/lib/python3.6/dist-packages/keras/backend/tensorflow_backend.py:4267: The name tf.nn.max_pool is deprecated. Please use tf.nn.max_pool2d instead.\n",
            "\n",
            "WARNING:tensorflow:From /usr/local/lib/python3.6/dist-packages/keras/backend/tensorflow_backend.py:3733: calling dropout (from tensorflow.python.ops.nn_ops) with keep_prob is deprecated and will be removed in a future version.\n",
            "Instructions for updating:\n",
            "Please use `rate` instead of `keep_prob`. Rate should be set to `rate = 1 - keep_prob`.\n",
            "WARNING:tensorflow:From /usr/local/lib/python3.6/dist-packages/keras/backend/tensorflow_backend.py:190: The name tf.get_default_session is deprecated. Please use tf.compat.v1.get_default_session instead.\n",
            "\n",
            "WARNING:tensorflow:From /usr/local/lib/python3.6/dist-packages/keras/backend/tensorflow_backend.py:197: The name tf.ConfigProto is deprecated. Please use tf.compat.v1.ConfigProto instead.\n",
            "\n",
            "WARNING:tensorflow:From /usr/local/lib/python3.6/dist-packages/keras/backend/tensorflow_backend.py:203: The name tf.Session is deprecated. Please use tf.compat.v1.Session instead.\n",
            "\n",
            "WARNING:tensorflow:From /usr/local/lib/python3.6/dist-packages/keras/backend/tensorflow_backend.py:207: The name tf.global_variables is deprecated. Please use tf.compat.v1.global_variables instead.\n",
            "\n",
            "WARNING:tensorflow:From /usr/local/lib/python3.6/dist-packages/keras/backend/tensorflow_backend.py:216: The name tf.is_variable_initialized is deprecated. Please use tf.compat.v1.is_variable_initialized instead.\n",
            "\n",
            "WARNING:tensorflow:From /usr/local/lib/python3.6/dist-packages/keras/backend/tensorflow_backend.py:223: The name tf.variables_initializer is deprecated. Please use tf.compat.v1.variables_initializer instead.\n",
            "\n",
            "WARNING:tensorflow:From /usr/local/lib/python3.6/dist-packages/keras/optimizers.py:793: The name tf.train.Optimizer is deprecated. Please use tf.compat.v1.train.Optimizer instead.\n",
            "\n",
            "WARNING:tensorflow:From /usr/local/lib/python3.6/dist-packages/keras/backend/tensorflow_backend.py:3576: The name tf.log is deprecated. Please use tf.math.log instead.\n",
            "\n",
            "WARNING:tensorflow:From /usr/local/lib/python3.6/dist-packages/tensorflow_core/python/ops/math_grad.py:1424: where (from tensorflow.python.ops.array_ops) is deprecated and will be removed in a future version.\n",
            "Instructions for updating:\n",
            "Use tf.where in 2.0, which has the same broadcast rule as np.where\n",
            "WARNING:tensorflow:From /usr/local/lib/python3.6/dist-packages/keras/backend/tensorflow_backend.py:1033: The name tf.assign_add is deprecated. Please use tf.compat.v1.assign_add instead.\n",
            "\n",
            "WARNING:tensorflow:From /usr/local/lib/python3.6/dist-packages/keras/backend/tensorflow_backend.py:1020: The name tf.assign is deprecated. Please use tf.compat.v1.assign instead.\n",
            "\n"
          ],
          "name": "stdout"
        }
      ]
    },
    {
      "cell_type": "code",
      "metadata": {
        "id": "RdHuC1SWFq5c",
        "colab_type": "code",
        "colab": {}
      },
      "source": [
        "PATH = './gdrive/My Drive/DL/Style/donor.csv'\n",
        "dn = pd.read_csv(PATH)\n",
        "\n",
        "X_ts = dn.text.astype('str')\n",
        "y_ts = dn.author.astype('category')\n",
        "\n",
        "tokenizer.fit_on_texts(X_ts) \n",
        "sequences = tokenizer.texts_to_sequences(X_ts) \n",
        "# word_index = tokenizer.word_index \n",
        "\n",
        "X_ts = pad_sequences(sequences, maxlen=maxlen, truncating=\"post\")\n",
        "\n",
        "y_ts = np.asarray(y_ts)\n",
        "onehot_encoder = OneHotEncoder(sparse=False)\n",
        "encoded = y_ts.reshape(len(y_ts), 1)\n",
        "y_ts = onehot_encoder.fit_transform(encoded)\n",
        "\n",
        "yhat = model.predict(X_ts)"
      ],
      "execution_count": 0,
      "outputs": []
    },
    {
      "cell_type": "code",
      "metadata": {
        "id": "FDb74fBOgDob",
        "colab_type": "code",
        "colab": {}
      },
      "source": [
        "# CS230/outputs/Rand-donor-text (original)\n",
        "txt1 = [\"She sat at the window of the train, her head thrown back, one leg stretched across to the empty seat before her. The window frame trembled with the speed of the motion, the pane hung over empty darkness, and dots of light slashed across the glass as luminous streaks, once in a while.\", \n",
        "        \"Her leg, sculptured by the tight sheen of the stocking, its long line running straight, over an arched instep, to the tip of a foot in a high-heeled pump, had a feminine elegance that seemed out of place in the dusty train car and oddly incongruous with the rest of her.\", \n",
        "        \"She wore a battered camel's hair coat that had been expensive, wrapped shapelessly about her slender, nervous body. The coat collar was raised to the slanting brim of her hat. A sweep of brown hair fell back, almost touching the line of her shoulders.\", \n",
        "        \"Her face was made of angular planes, the shape of her mouth clear-cut, a sensual mouth held closed with inflexible precision. She kept her hands in the coat pockets, her posture taut, as if she resented immobility, and unfeminine, as if she were unconscious of her own body and that it was a woman's body.\", \n",
        "        \"She sat listening to the music. It was a symphony of triumph. The notes flowed up, they spoke of rising and they were the rising itself, they were the essence and the form of upward motion, they seemed to embody every human act and thought that had ascent as its motive.\", \n",
        "        \"It was a sunburst of sound, breaking out of hiding and spreading open. It had the freedom of release and the tension of purpose. It swept space clean, and left nothing but the joy of an unobstructed effort.\", \n",
        "        \"Only a faint echo within the sounds spoke of that from which the music had escaped, but spoke in laughing astonishment at the discovery that there was no ugliness or pain, and there never had had to be. It was the song of an immense deliverance.\"]\n",
        "\n",
        "# CS230/outputs/Rand_117M_10000_Nabokov-All-3.txt\n",
        "txt2 = [\"She sat at the window of the train, sighing as she did that, but then she got up and move to the seat opposite her and sat there too, reclining. The window creaked as it swung into motion, the pane of the window half opened, and there was darkness again, and dots of light slashed across the glass as luminous streaks, once in a while.\", \n",
        "        \"Her leg, sculptured by the tight sheen of the stocking, its long line running straight, now stretched out to an angle, above the knee, to the tip of a foot in a high-heeled pump, had a feminine elegance that seemed out of place in the dusty train car and even more so because of the comical expression on her face.\",  \n",
        "        \"The calves of her high-heeled shoes were bare, and her bag was full of sand, wrapped shapelessly about her slender, nervous body. She put on the shoes, and the collar turned out to be long. A sweep of brown hair fell back, touching her left shoulder.\",  \n",
        "        \"Her forehead, cheek and all of her arms were those of a babushka, blush seeping into the spectrum of her cheeks, a sensual mouth held closed with inflexible precision. She straightened, fidgeted, brushed her bare arms with her handkerchief, and then her hand reached down, as if just barely, on her knees, for she had grabbed something and her face was quivering over a woman's body.\", \n",
        "        \"In the familiarity of the room, she looked up, relaxed. It was a symphony of triumph. The air was warmly flowing music, notes spoke of rising and they were the rising itself, they were the essence and the form of upward motion, and the closer they came, the more distinct and overwhelming became their conviction that if they attained.\",  \n",
        "        \"It was a sunburst of sound, breaking out of hiding and spreading open. It had the freedom of release and the tension of purpose. It swept space clean, and immediately the air, having at once filled with a tempestuous sigh.\",\n",
        "        \"The sonorous note of the sound grew and filled with its ominous premonition, but spoke in laughing astonishment at the discovery that there was no ugliness or pain in its every pronouncement. It was the song of an immense deliverance.\"]\n",
        "\n",
        "\n",
        "# CS230/outputs/Rand-output-ngram.txt\n",
        "txt3 = [\"She sat at the light of the draw, her one thrown behind, one leg stretched against to the empty seat before her. The light state trembled with the streak of the pass, the skin hung on let dark, and dots of light smashed across the stone so one streaks, once in a while.\",\n",
        "        \"Her foot, cut by the thin sheen of the stocking, its large print running straight, else an rounded foot, to the snap of a sum in a dear-heeled up, had a affected poetry that seemed past of time in the gray head van and oddly several with the bed of her.\", \n",
        "        \"She wore a battered mule's little hat that had been expensive, covered shapelessly about her little, emotional one. The face collar was formed to the garbling brim of her jacket. A reflection of do little down back, almost touching the line of her shoulders.\", \n",
        "        \"Her face was made of angular planes, the state of her tongue clear-except, a straight mouth new close with firm care. She kept her hand in the wash pockets, her turn taut, as if she resented standing, and offensive, so if she were dead of her own head and that it was a woman's body.\", \n",
        "        \"She sat ear to the music. It was a brass of skin. The notes flowed knight, they step of back and they were the rising her, they were the case and the form of upward stream, they seemed to connect every hand act and thought that had current how its motive.\",  \n",
        "        \"It was a sunburst of road, breaking apparently of destruction and spreading distributed. It had the freedom of release and the tension of reason. It swept field plain, and pink lightweight even the joy of an open crack.\",  \n",
        "        \"Merely a dim reply within the sounds check of that out which the arrangement had escaped, without spoke in laughing astonishment at the find that there was none ugliness or spasm, and there not had had to be. It was the lay of an gigantic issue.\"]\n",
        "\n",
        "def prepare_inputs(X): \n",
        "  tokenizer.fit_on_texts(X) \n",
        "  sequences = tokenizer.texts_to_sequences(X) \n",
        "  X = pad_sequences(sequences, maxlen=maxlen, truncating=\"post\")\n",
        "  return X\n",
        "\n",
        "X1 = prepare_inputs(txt1)\n",
        "X2 = prepare_inputs(txt2)\n",
        "X3 = prepare_inputs(txt3)"
      ],
      "execution_count": 0,
      "outputs": []
    },
    {
      "cell_type": "code",
      "metadata": {
        "id": "bwafSe_xljrS",
        "colab_type": "code",
        "outputId": "97536b2b-0167-4556-bd4e-62769648b9b8",
        "colab": {
          "base_uri": "https://localhost:8080/",
          "height": 527
        }
      },
      "source": [
        "yhat1 = model.predict(X1)\n",
        "yhat2 = model.predict(X2)\n",
        "yhat3 = model.predict(X3)\n",
        "\n",
        "# The Rand text looks extremely Nabokov-like for the model.\n",
        "print(yhat1)\n",
        "print('\\n', yhat2)\n",
        "print('\\n', yhat3)\n",
        "\n",
        "# We should expect a possitive number if the text style is tranferred to be more like Nabokov.\n",
        "print('\\n', yhat1[:, -1] - yhat2[:, -1])\n",
        "print('\\n', yhat1[:, -1] - yhat3[:, -1])"
      ],
      "execution_count": 0,
      "outputs": [
        {
          "output_type": "stream",
          "text": [
            "\n",
            " [[1.9874492e-06 1.5040224e-03 9.9849403e-01]\n",
            " [6.0623637e-07 2.0041092e-05 9.9997938e-01]\n",
            " [8.2889194e-08 1.6244162e-06 9.9999833e-01]\n",
            " [8.3698222e-04 1.6383591e-04 9.9899918e-01]\n",
            " [5.3102599e-04 2.1514185e-02 9.7795480e-01]\n",
            " [6.2312851e-05 1.2646959e-04 9.9981123e-01]\n",
            " [7.2156760e-04 4.0704547e-03 9.9520797e-01]]\n",
            "\n",
            " [[2.08121864e-03 2.50375215e-02 9.72881198e-01]\n",
            " [2.57652991e-05 1.79159618e-03 9.98182654e-01]\n",
            " [1.22583215e-05 7.13620238e-06 9.99980569e-01]\n",
            " [5.20651869e-04 6.49833382e-05 9.99414325e-01]\n",
            " [3.17843743e-02 7.82148913e-02 8.90000761e-01]\n",
            " [9.02135980e-06 5.02097129e-04 9.99488831e-01]\n",
            " [1.75791024e-06 1.64208643e-04 9.99834061e-01]]\n",
            "\n",
            " [[9.77837626e-05 2.66789142e-02 9.73223329e-01]\n",
            " [1.11950875e-07 4.16828925e-06 9.99995708e-01]\n",
            " [7.34423338e-07 3.48073104e-06 9.99995828e-01]\n",
            " [6.22700536e-05 1.05061314e-04 9.99832630e-01]\n",
            " [6.21210262e-02 5.43152587e-03 9.32447493e-01]\n",
            " [1.73683584e-05 2.58376695e-05 9.99956846e-01]\n",
            " [1.91121435e-04 2.90205772e-03 9.96906817e-01]]\n",
            "\n",
            " [ 2.5612831e-02  1.7967224e-03  1.7762184e-05 -4.1514635e-04\n",
            "  8.7954044e-02  3.2240152e-04 -4.6260953e-03]\n",
            "\n",
            " [ 2.5270700e-02 -1.6331673e-05  2.5033951e-06 -8.3345175e-04\n",
            "  4.5507312e-02 -1.4561415e-04 -1.6988516e-03]\n"
          ],
          "name": "stdout"
        }
      ]
    },
    {
      "cell_type": "code",
      "metadata": {
        "id": "oV7FbGYQUZQJ",
        "colab_type": "code",
        "colab": {}
      },
      "source": [
        "pd.DataFrame(y_ts, columns=['Austen', 'Dumas', 'Nabokov']).to_csv(r'./gdrive/My Drive/DL/Style/donor_y.csv', index=False)\n",
        "pd.DataFrame(yhat, columns=['Austen', 'Dumas', 'Nabokov']).to_csv(r'./gdrive/My Drive/DL/Style/donor_yhat.csv', index=False)"
      ],
      "execution_count": 0,
      "outputs": []
    }
  ]
}