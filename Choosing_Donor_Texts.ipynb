{
  "nbformat": 4,
  "nbformat_minor": 0,
  "metadata": {
    "colab": {
      "name": "Choosing Donor Texts.ipynb",
      "provenance": [],
      "collapsed_sections": []
    },
    "kernelspec": {
      "name": "python3",
      "display_name": "Python 3"
    }
  },
  "cells": [
    {
      "cell_type": "code",
      "metadata": {
        "id": "rNxeBtweC0Vq",
        "colab_type": "code",
        "outputId": "6646902e-2c4a-4696-cfc4-4e7f8202315e",
        "colab": {
          "base_uri": "https://localhost:8080/",
          "height": 80
        }
      },
      "source": [
        "import numpy as np\n",
        "import pandas as pd\n",
        "import matplotlib.pyplot as plt\n",
        "import tensorflow as tf\n",
        "import tensorflow_hub as hub\n",
        "\n",
        "%matplotlib inline\n",
        "\n",
        "from google.colab import drive\n",
        "drive.mount('/content/gdrive')"
      ],
      "execution_count": 0,
      "outputs": [
        {
          "output_type": "display_data",
          "data": {
            "text/html": [
              "<p style=\"color: red;\">\n",
              "The default version of TensorFlow in Colab will soon switch to TensorFlow 2.x.<br>\n",
              "We recommend you <a href=\"https://www.tensorflow.org/guide/migrate\" target=\"_blank\">upgrade</a> now \n",
              "or ensure your notebook will continue to use TensorFlow 1.x via the <code>%tensorflow_version 1.x</code> magic:\n",
              "<a href=\"https://colab.research.google.com/notebooks/tensorflow_version.ipynb\" target=\"_blank\">more info</a>.</p>\n"
            ],
            "text/plain": [
              "<IPython.core.display.HTML object>"
            ]
          },
          "metadata": {
            "tags": []
          }
        },
        {
          "output_type": "stream",
          "text": [
            "Drive already mounted at /content/gdrive; to attempt to forcibly remount, call drive.mount(\"/content/gdrive\", force_remount=True).\n"
          ],
          "name": "stdout"
        }
      ]
    },
    {
      "cell_type": "code",
      "metadata": {
        "id": "R9_lpw8kmpWY",
        "colab_type": "code",
        "colab": {}
      },
      "source": [
        "def read_txt(PATH, Ln=600):\n",
        "  '''\n",
        "  Cut raw texts in to chunks of 600 characters.\n",
        "  '''\n",
        "\n",
        "  txt = (open(PATH, 'r')).read()\n",
        "  txt = txt.replace('\\n', ' ')\n",
        "  l_1 = []\n",
        "  for i in range(len(txt)//Ln):\n",
        "    l_1.append(txt[i*Ln:(i+1)*Ln])\n",
        "  return l_1"
      ],
      "execution_count": 0,
      "outputs": []
    },
    {
      "cell_type": "code",
      "metadata": {
        "id": "rZb8GvJW7o8b",
        "colab_type": "code",
        "colab": {}
      },
      "source": [
        "def replace_broken_words(df, author):\n",
        "  '''\n",
        "  Broken words at the beginnig and the end of each chunk are removed.\n",
        "  '''\n",
        "  l1 = []\n",
        "  for t in df['text']:\n",
        "    l2 = []\n",
        "    for i, v in enumerate(t):\n",
        "      if v == ' ':\n",
        "        l2.append(i)\n",
        "    s = l2[0]\n",
        "    e = l2[-1]\n",
        "    l1.append(t[s:e])\n",
        "  \n",
        "  df1 = pd.DataFrame(l1)\n",
        "  df1['author'] = author\n",
        "  df1.rename(columns={0:'text'}, inplace=True)\n",
        "  return df1"
      ],
      "execution_count": 0,
      "outputs": []
    },
    {
      "cell_type": "code",
      "metadata": {
        "id": "bvfP8DtuRfb0",
        "colab_type": "code",
        "colab": {}
      },
      "source": [
        "PATH = './gdrive/My Drive/DL/Style/Nabokov-all.txt'\n",
        "natxt = read_txt(PATH)\n",
        "\n",
        "PATH2 = './gdrive/My Drive/DL/Style/Austen-all.txt'\n",
        "autxt = read_txt(PATH2)\n",
        "\n",
        "PATH3 = './gdrive/My Drive/DL/Style/Dumas-all.txt'\n",
        "dutxt = read_txt(PATH3)\n",
        "\n",
        "dict1 = {'text': natxt, 'author': 'Nabokov'}\n",
        "dict2 = {'text': autxt, 'author': 'Austen'}\n",
        "dict3 = {'text': dutxt, 'author': 'Twain'}\n",
        "\n",
        "\n",
        "na = pd.DataFrame(dict1).sample(120)\n",
        "au = pd.DataFrame(dict2).sample(120)\n",
        "du = pd.DataFrame(dict3).sample(120)\n",
        "\n",
        "na = replace_broken_words(na, 'Nabokov')\n",
        "au = replace_broken_words(au, 'Austen')\n",
        "du = replace_broken_words(du, 'Dumas')\n",
        "\n",
        "author = [na, au, du]\n",
        "\n",
        "df = pd.concat(author)"
      ],
      "execution_count": 0,
      "outputs": []
    },
    {
      "cell_type": "code",
      "metadata": {
        "id": "0keTya7wO2Nm",
        "colab_type": "code",
        "colab": {}
      },
      "source": [
        "df.to_csv(r'./gdrive/My Drive/DL/Style/donor.csv', index=False)"
      ],
      "execution_count": 0,
      "outputs": []
    }
  ]
}