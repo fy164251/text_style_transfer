{
  "nbformat": 4,
  "nbformat_minor": 0,
  "metadata": {
    "colab": {
      "name": "Metrics.ipynb",
      "provenance": [],
      "collapsed_sections": []
    },
    "kernelspec": {
      "name": "python3",
      "display_name": "Python 3"
    }
  },
  "cells": [
    {
      "cell_type": "markdown",
      "metadata": {
        "id": "TOnanQvM-5iz",
        "colab_type": "text"
      },
      "source": [
        "# <center> Style Transfer Evaluation </center>\n",
        "\n",
        "Since our intention is to provide machine-based style transfer, we need to task ourselves with subjectof output evaluation.  It follows from our discussion on styling that such score should include themeasures of a triplet {*style source, narrative fluency, and content equivalence*}. Provided that our ultimate goal is a perfect imitation of source style conditioned on story from content source, missing either of the aforementioned factors will not yield a satisfactory result.For one example, if the output text does not employ the vocabulary and sentence structure of styledonor, it will result in the stylistic miss.  For another example, if the output employs the style butdeparts from the content, it will fail to form a parallel representation.  For a third example, if theoutput text successfully fuses the content with style of input sources but violates general languageand writing norms, it will result in a poor reading experience. Therefore, to evaluate the quality ofstyle transfer, we need to take all those considerations into account.\n",
        "\n",
        "In evaluating results of the literature style transfer, we must consider that the two dimensions of the metric (naturalness and content preservation) are of the satisficing type, while the style is the metric component we optimize for. We leverage the work done by Mir et. al [1] where the authors propose - \n",
        "\n",
        "* Style Transfer Intensity \n",
        "* Naturalness\n",
        "* Content preservation \n",
        "\n",
        "as key aspects of interest for style transfer for text. The authors propose a set of metrics for automated evaluation and demonstrate that they are are more strongly correlated and in agreement with human judgement than prior work in the area for the respective aspects. We leverage these automated metrics calculated as Earth Mover's Distance, Word Mover's Distance on style-masked texts, and adversarial classification for the respective aspects"
      ]
    },
    {
      "cell_type": "code",
      "metadata": {
        "id": "6HO9ban-pt5W",
        "colab_type": "code",
        "colab": {
          "base_uri": "https://localhost:8080/",
          "height": 34
        },
        "outputId": "a8be54d1-fd86-401a-fdeb-b8acb91dba48"
      },
      "source": [
        "from google.colab import drive\n",
        "drive.mount('/content/drive')"
      ],
      "execution_count": 1,
      "outputs": [
        {
          "output_type": "stream",
          "text": [
            "Drive already mounted at /content/drive; to attempt to forcibly remount, call drive.mount(\"/content/drive\", force_remount=True).\n"
          ],
          "name": "stdout"
        }
      ]
    },
    {
      "cell_type": "code",
      "metadata": {
        "id": "EStghsVkfG_1",
        "colab_type": "code",
        "colab": {}
      },
      "source": [
        "import sys\n",
        "sys.path.append('/content/drive/My Drive/Colab Notebooks/')"
      ],
      "execution_count": 0,
      "outputs": []
    },
    {
      "cell_type": "code",
      "metadata": {
        "id": "s8v7CR99spqj",
        "colab_type": "code",
        "colab": {
          "base_uri": "https://localhost:8080/",
          "height": 134
        },
        "outputId": "e08a9143-aa85-4862-d9d4-d5fd3d68043c"
      },
      "source": [
        "import re\n",
        "import numpy as np\n",
        "import pandas as pd\n",
        "import re\n",
        "from gensim.models.word2vec import Word2Vec\n",
        "from tokenizer import tokenize\n",
        "from tokenizer import RE_PATTERN\n",
        "from pyemd import emd\n",
        "from collections import Counter\n",
        "from keras.models import load_model as load_keras_model\n",
        "from keras.preprocessing.sequence import pad_sequences\n",
        "from tokenizer import RE_PATTERN\n",
        "from sklearn.externals import joblib"
      ],
      "execution_count": 3,
      "outputs": [
        {
          "output_type": "stream",
          "text": [
            "Using TensorFlow backend.\n"
          ],
          "name": "stderr"
        },
        {
          "output_type": "display_data",
          "data": {
            "text/html": [
              "<p style=\"color: red;\">\n",
              "The default version of TensorFlow in Colab will soon switch to TensorFlow 2.x.<br>\n",
              "We recommend you <a href=\"https://www.tensorflow.org/guide/migrate\" target=\"_blank\">upgrade</a> now \n",
              "or ensure your notebook will continue to use TensorFlow 1.x via the <code>%tensorflow_version 1.x</code> magic:\n",
              "<a href=\"https://colab.research.google.com/notebooks/tensorflow_version.ipynb\" target=\"_blank\">more info</a>.</p>\n"
            ],
            "text/plain": [
              "<IPython.core.display.HTML object>"
            ]
          },
          "metadata": {
            "tags": []
          }
        },
        {
          "output_type": "stream",
          "text": [
            "/usr/local/lib/python3.6/dist-packages/sklearn/externals/joblib/__init__.py:15: DeprecationWarning: sklearn.externals.joblib is deprecated in 0.21 and will be removed in 0.23. Please import this functionality directly from joblib, which can be installed with: pip install joblib. If this warning is raised when loading pickled models, you may need to re-serialize those models with scikit-learn 0.21+.\n",
            "  warnings.warn(msg, category=DeprecationWarning)\n"
          ],
          "name": "stderr"
        }
      ]
    },
    {
      "cell_type": "markdown",
      "metadata": {
        "id": "h8S-VaDpCFZR",
        "colab_type": "text"
      },
      "source": [
        "## Style Transfer Intensity"
      ]
    },
    {
      "cell_type": "code",
      "metadata": {
        "id": "3OlHZyResh9K",
        "colab_type": "code",
        "colab": {}
      },
      "source": [
        "\"\"\" EVALUATION OF STYLE TRANSFER INTENSITY\n",
        "\n",
        "This code is used for evaluation of style transfer intensity (STI) between input and output texts of our style transfer model.\n",
        "Note that STI, makes use of both the input and the output texts for evaluation and tells how *much* the style changed from the input to the output.\n",
        "\n",
        "Two output texts could exhibit the same overall target style, but with one being more pronounced than the other,\n",
        "e.g. \"i like this\" vs. \"i love this !\" While past evaluations do not quantify that, STI can,\n",
        "given style distributions from a style classifier trained on labeled style datasets.\n",
        "\n",
        "As per [1] STI, based on Earth Mover's Distance (EMD) between style distributions of input and output texts,\n",
        "exhibited higher correlation with human evaluations of the same texts than did the method of past evaluations\n",
        "(using target style scores of output texts alone).\n",
        "\n",
        "Usage:\n",
        "    - Calculate STI for  input/output text style distributions              -> calculate_emd(...)\n",
        "\n",
        "\"\"\"\n",
        "\n",
        "\n",
        "def calculate_emd(input_distribution, output_distribution):\n",
        "    '''\n",
        "    Calculate Earth Mover's Distance (aka Wasserstein distance) between\n",
        "    two distributions of equal length.\n",
        "\n",
        "    Parameters\n",
        "    ----------\n",
        "    input_distribution : numpy.ndarray\n",
        "        Probabilities assigned to style classes for an input text\n",
        "    output_distribution : numpy.ndarray\n",
        "        Probabilities assigned to style classes for an output text, e.g. of a style transfer model\n",
        "\n",
        "    Returns\n",
        "    -------\n",
        "    Earth Mover's Distance (float) between the two given style distributions\n",
        "\n",
        "    '''\n",
        "\n",
        "    N = len(input_distribution)\n",
        "    distance_matrix = np.ones((N, N))\n",
        "    return emd(input_distribution, output_distribution, distance_matrix)"
      ],
      "execution_count": 0,
      "outputs": []
    },
    {
      "cell_type": "markdown",
      "metadata": {
        "id": "UXDoL1--CK37",
        "colab_type": "text"
      },
      "source": [
        "###### Ingest Sample Test Data from Drive"
      ]
    },
    {
      "cell_type": "code",
      "metadata": {
        "id": "XF1blTzw34WU",
        "colab_type": "code",
        "colab": {}
      },
      "source": [
        "donor_y = pd.read_csv('/content/drive/My Drive/donor_y.csv')\n",
        "donor_yhat = pd.read_csv('/content/drive/My Drive/donor_yhat.csv')\n"
      ],
      "execution_count": 0,
      "outputs": []
    },
    {
      "cell_type": "code",
      "metadata": {
        "id": "hq0X1ZQuly5m",
        "colab_type": "code",
        "colab": {
          "base_uri": "https://localhost:8080/",
          "height": 221
        },
        "outputId": "7c747022-66cf-41f4-cf41-5e66fd466c98"
      },
      "source": [
        "print(donor_y.head())\n",
        "print(donor_yhat.head())"
      ],
      "execution_count": 6,
      "outputs": [
        {
          "output_type": "stream",
          "text": [
            "   Austen  Dumas  Nabokov\n",
            "0     0.0    0.0      1.0\n",
            "1     0.0    0.0      1.0\n",
            "2     0.0    0.0      1.0\n",
            "3     0.0    0.0      1.0\n",
            "4     0.0    0.0      1.0\n",
            "     Austen     Dumas   Nabokov\n",
            "0  0.000679  0.001936  0.997385\n",
            "1  0.000076  0.628543  0.371381\n",
            "2  0.010569  0.853630  0.135801\n",
            "3  0.006065  0.646431  0.347504\n",
            "4  0.000003  0.001943  0.998054\n"
          ],
          "name": "stdout"
        }
      ]
    },
    {
      "cell_type": "code",
      "metadata": {
        "id": "W3HGEwxU35uN",
        "colab_type": "code",
        "colab": {}
      },
      "source": [
        "emd_calc = []\n",
        "for i in range(donor_yhat.shape[0]):\n",
        "    emd_calc.append(calculate_emd(np.array(donor_y, order='C')[i].astype('float64'), np.array(donor_yhat, order='C')[i].astype('float64')))"
      ],
      "execution_count": 0,
      "outputs": []
    },
    {
      "cell_type": "markdown",
      "metadata": {
        "id": "10WrMtfFB9L2",
        "colab_type": "text"
      },
      "source": [
        "###### Distribution of EMD Scores Calculated on Sample Test Set"
      ]
    },
    {
      "cell_type": "code",
      "metadata": {
        "id": "yRAAJO4e5n8T",
        "colab_type": "code",
        "colab": {
          "base_uri": "https://localhost:8080/",
          "height": 265
        },
        "outputId": "a8b46d98-4f71-4cfa-f7a1-f8123e4c8a2f"
      },
      "source": [
        "pd.DataFrame(emd_calc, columns=['EMD']).plot.hist();"
      ],
      "execution_count": 8,
      "outputs": [
        {
          "output_type": "display_data",
          "data": {
            "image/png": "[encoded data removed]",
            "text/plain": [
              "<Figure size 432x288 with 1 Axes>"
            ]
          },
          "metadata": {
            "tags": []
          }
        }
      ]
    },
    {
      "cell_type": "markdown",
      "metadata": {
        "id": "afVGVM3zCWMV",
        "colab_type": "text"
      },
      "source": [
        "# Naturalness"
      ]
    },
    {
      "cell_type": "code",
      "metadata": {
        "id": "sBJS7-3YC_ed",
        "colab_type": "code",
        "colab": {
          "base_uri": "https://localhost:8080/",
          "height": 561
        },
        "outputId": "9ad311e7-a07a-4d1a-f81d-be083c2b1a83"
      },
      "source": [
        "\"\"\"EVALUATION OF NATURALNESS\n",
        "This is used to evaluate the naturalness of output texts of our style transfer model.\n",
        "For a baseline understanding of what is considered \"natural,\" any method used for automated evaluation of naturalness\n",
        "also requires an understanding of the human-sourced input texts.\n",
        "Inspired by the adversarial evaluation approach in \"Generating Sentences from a Continuous Space\"\n",
        "(Bowman et al., 2016), we use pretrained unigram logistic regression classifiers and LSTM logistic regression classifiers available from [1]\n",
        "on samples of input texts and output texts for each style transfer model.\n",
        "Via adversarial evaluation, the classifiers must distinguish human-generated inputs from machine-generated outputs.\n",
        "The more natural an output is, the likelier it is to fool an adversarial classifier.\n",
        "\n",
        "    - Calculate naturalness scores for texts with clf, a NaturalnessClassifier      -> clf.score(...)\n",
        "You can find examples of more detailed usage commands below.\n",
        "\"\"\"\n",
        "\n",
        "NATURALNESS_CLASSIFIER_BASE_PATH = '/content/drive/My Drive/NaturalnessClassifier/'\n",
        "MAX_SEQ_LEN = 30 # for neural classifier\n",
        "\n",
        "def load_model(path):\n",
        "    return joblib.load(path)\n",
        "\n",
        "def invert_dict(dictionary):\n",
        "    return dict(zip(dictionary.values(), dictionary.keys()))\n",
        "\n",
        "TEXT_VECTORIZER = load_model('/content/drive/My Drive/vectorizer.pkl')\n",
        "\n",
        "# adjust vocabulary to account for unknowns\n",
        "VOCABULARY = TEXT_VECTORIZER.vocabulary_\n",
        "INVERSE_VOCABULARY = invert_dict(VOCABULARY)\n",
        "VOCABULARY[INVERSE_VOCABULARY[0]] = len(VOCABULARY)\n",
        "VOCABULARY['CUSTOM_UNKNOWN'] = len(VOCABULARY)+1\n",
        "\n",
        "\n",
        "\n",
        "\n",
        "## DATA PREP\n",
        "def convert_to_indices(text):\n",
        "    # tokenize input text\n",
        "    tokens = re.compile(RE_PATTERN).split(text)\n",
        "    non_empty_tokens = list(filter(lambda token: token, tokens))\n",
        "\n",
        "    indices = []\n",
        "\n",
        "    # collect indices of tokens in vocabulary\n",
        "    for token in non_empty_tokens:\n",
        "        if token in VOCABULARY:\n",
        "            index = VOCABULARY[token]\n",
        "        else:\n",
        "            index = VOCABULARY['CUSTOM_UNKNOWN']\n",
        "\n",
        "        indices.append(index)\n",
        "\n",
        "    return indices\n",
        "\n",
        "def format_inputs(texts):\n",
        "    # prepare texts for use in neural classifier\n",
        "    texts_as_indices = []\n",
        "    for text in texts:\n",
        "        texts_as_indices.append(convert_to_indices(text))\n",
        "    return pad_sequences(texts_as_indices, maxlen=MAX_SEQ_LEN, padding='post', truncating='post', value=0.)\n",
        "\n",
        "def merge_datasets(dataset1, dataset2):\n",
        "    x = []\n",
        "    x.extend(dataset1)\n",
        "    x.extend(dataset2)\n",
        "    return x\n",
        "\n",
        "def load_dataset(path):\n",
        "    data = []\n",
        "    with open(path) as f:\n",
        "        data.append(f.read())\n",
        "    data = [s.strip() for s in data]\n",
        "    return data\n",
        "\n",
        "\n",
        "    \n",
        "## NATURALNESS CLASSIFIERS\n",
        "class NaturalnessClassifier:\n",
        "    '''\n",
        "    An external classifier was trained for a style transfer model -\n",
        "    more specifically using its inputs and outputs excluding test samples.\n",
        "\n",
        "    Use UnigramBasedClassifier (TBD) or NeuralBasedClassifier to load a\n",
        "    trained classifier and score texts of a given style transfer model.\n",
        "    The scores represent the probabilities of the texts being 'natural'.\n",
        "\n",
        "    '''\n",
        "\n",
        "    pass\n",
        "\n",
        "class UnigramBasedClassifier(NaturalnessClassifier):\n",
        "    ''' \n",
        "    Might implement in future if neccessary\n",
        "\n",
        "    '''\n",
        "\n",
        "class NeuralBasedClassifier(NaturalnessClassifier):\n",
        "    def __init__(self, style_transfer_model_name):\n",
        "        self.path = f'{NATURALNESS_CLASSIFIER_BASE_PATH}/neural_{style_transfer_model_name}.h5'\n",
        "        self.classifier = load_keras_model(self.path)\n",
        "\n",
        "    def score(self, texts):\n",
        "        inps = format_inputs(texts)\n",
        "        distribution = self.classifier.predict(inps)\n",
        "        scores = distribution.squeeze()\n",
        "        return scores\n",
        "\n",
        "    def summary(self):\n",
        "        return self.classifier.summary()\n",
        "\n",
        "model = 'ARAE' \n",
        "\n",
        "\n",
        "# # load data\n",
        "generated_1 = ['Her long muscular hands were free, her pink mane kept catching the rays, and the muscles, and the muscles of her hands continued to embrace, as if she suddenly slipped into a womans body.']\n",
        "generated_2 = ['he sat at the window of the train, brooding, shaking her head, shaking herself, and could not quite make ones feet rest on the floor. The window frame trembled with the speed of the motion, the empty darkness, and dots of light slashed across the glass as luminous streaks, once in a while. Her leg, sculptured by the tight sheen of the stocking, its long line running straight, now developed lateral instep at the base of the heel, accompanied by a small elastic at the tip; it, had a feminine elegance that seemed out of place in the dusty train car and oddly fitting the contours of her profile. She wore the most expensive dress in the world, the most expensive shoes, the most expensive mouth, wrapped shapelessly about her slender, nervous body']\n",
        "output_texts = merge_datasets(generated_1, generated_2)\n",
        "\n",
        "# # score\n",
        "neural_classifier = NeuralBasedClassifier(model)\n",
        "print(neural_classifier.score(output_texts))"
      ],
      "execution_count": 9,
      "outputs": [
        {
          "output_type": "stream",
          "text": [
            "WARNING:tensorflow:From /usr/local/lib/python3.6/dist-packages/keras/backend/tensorflow_backend.py:541: The name tf.placeholder is deprecated. Please use tf.compat.v1.placeholder instead.\n",
            "\n",
            "WARNING:tensorflow:From /usr/local/lib/python3.6/dist-packages/keras/backend/tensorflow_backend.py:66: The name tf.get_default_graph is deprecated. Please use tf.compat.v1.get_default_graph instead.\n",
            "\n",
            "WARNING:tensorflow:From /usr/local/lib/python3.6/dist-packages/keras/backend/tensorflow_backend.py:4432: The name tf.random_uniform is deprecated. Please use tf.random.uniform instead.\n",
            "\n"
          ],
          "name": "stdout"
        },
        {
          "output_type": "stream",
          "text": [
            "/usr/local/lib/python3.6/dist-packages/sklearn/base.py:306: UserWarning: Trying to unpickle estimator CountVectorizer from version pre-0.18 when using version 0.21.3. This might lead to breaking code or invalid results. Use at your own risk.\n",
            "  UserWarning)\n"
          ],
          "name": "stderr"
        },
        {
          "output_type": "stream",
          "text": [
            "WARNING:tensorflow:From /usr/local/lib/python3.6/dist-packages/keras/backend/tensorflow_backend.py:3239: where (from tensorflow.python.ops.array_ops) is deprecated and will be removed in a future version.\n",
            "Instructions for updating:\n",
            "Use tf.where in 2.0, which has the same broadcast rule as np.where\n",
            "WARNING:tensorflow:From /usr/local/lib/python3.6/dist-packages/keras/backend/tensorflow_backend.py:190: The name tf.get_default_session is deprecated. Please use tf.compat.v1.get_default_session instead.\n",
            "\n",
            "WARNING:tensorflow:From /usr/local/lib/python3.6/dist-packages/keras/backend/tensorflow_backend.py:197: The name tf.ConfigProto is deprecated. Please use tf.compat.v1.ConfigProto instead.\n",
            "\n",
            "WARNING:tensorflow:From /usr/local/lib/python3.6/dist-packages/keras/backend/tensorflow_backend.py:203: The name tf.Session is deprecated. Please use tf.compat.v1.Session instead.\n",
            "\n",
            "WARNING:tensorflow:From /usr/local/lib/python3.6/dist-packages/keras/backend/tensorflow_backend.py:207: The name tf.global_variables is deprecated. Please use tf.compat.v1.global_variables instead.\n",
            "\n",
            "WARNING:tensorflow:From /usr/local/lib/python3.6/dist-packages/keras/backend/tensorflow_backend.py:216: The name tf.is_variable_initialized is deprecated. Please use tf.compat.v1.is_variable_initialized instead.\n",
            "\n",
            "WARNING:tensorflow:From /usr/local/lib/python3.6/dist-packages/keras/backend/tensorflow_backend.py:223: The name tf.variables_initializer is deprecated. Please use tf.compat.v1.variables_initializer instead.\n",
            "\n",
            "WARNING:tensorflow:From /usr/local/lib/python3.6/dist-packages/keras/optimizers.py:793: The name tf.train.Optimizer is deprecated. Please use tf.compat.v1.train.Optimizer instead.\n",
            "\n",
            "WARNING:tensorflow:From /usr/local/lib/python3.6/dist-packages/keras/backend/tensorflow_backend.py:3657: The name tf.log is deprecated. Please use tf.math.log instead.\n",
            "\n",
            "WARNING:tensorflow:From /usr/local/lib/python3.6/dist-packages/keras/backend/tensorflow_backend.py:1033: The name tf.assign_add is deprecated. Please use tf.compat.v1.assign_add instead.\n",
            "\n",
            "WARNING:tensorflow:From /usr/local/lib/python3.6/dist-packages/keras/backend/tensorflow_backend.py:1020: The name tf.assign is deprecated. Please use tf.compat.v1.assign instead.\n",
            "\n",
            "[0.05994288 0.9818979 ]\n"
          ],
          "name": "stdout"
        }
      ]
    },
    {
      "cell_type": "markdown",
      "metadata": {
        "id": "0oH9wDGoDdg7",
        "colab_type": "text"
      },
      "source": [
        "# Content Preservation\n",
        "\n",
        "The below implementation of content preservation has the functionality for implementing a style mask (removing a set of style specific tokens) and then calculating WMD on the leftover 'sans-style' texts to see if content still has meaning. However, we are currently implemented WMD calculation without a style mask as we are still exploring different strategies to come up with a style mask. This is something we are currently working on and will add soon in the future. "
      ]
    },
    {
      "cell_type": "code",
      "metadata": {
        "id": "UgsxKfHGewtr",
        "colab_type": "code",
        "colab": {
          "base_uri": "https://localhost:8080/",
          "height": 88
        },
        "outputId": "6001c8c2-4299-48b6-a798-402aa300191a"
      },
      "source": [
        "\"\"\"EVALUATION OF CONTENT PRESERVATION\n",
        "\n",
        "This code is used for evaluation of content preservation between input and output texts of a style transfer model.\n",
        "\n",
        "Word Mover's Distance (WMD) on texts with style masking (i.e. placeholders used in place of style words)\n",
        "exhibited the highest correlation with human evaluations of the same texts as per [1].\n",
        "\n",
        "Usage:\n",
        "    - Mask style words in a set of texts prior to evaluation                -> mark_style_words(texts, mask_style=True)\n",
        "    - Train a Word2Vec model for dataset, for use in WMD calculation   -> train_word2vec_model(...)\n",
        "    - Calculate WMD scores for  input/output texts                  -> calculate_wmd_scores(...)\n",
        "\n",
        "\n",
        "\"\"\"\n",
        "\n",
        "\n",
        "\n",
        "CUSTOM_STYLE = 'customstyle'\n",
        "STYLE_MODIFICATION_SETTINGS = ['style_masked', 'style_removed']\n",
        "\n",
        "\n",
        "# DATA PREP\n",
        "def mark_style_words(texts, style_tokens=None, mask_style=False):\n",
        "    '''\n",
        "    Mask or remove style words (based on a set of style tokens) from input texts.\n",
        "\n",
        "    Parameters\n",
        "    ----------\n",
        "    texts : list\n",
        "        String inputs\n",
        "    style_tokens : set\n",
        "        Style tokens\n",
        "    mask_style : boolean\n",
        "        Set to False to remove style tokens, True to replace with placeholder\n",
        "\n",
        "    Returns\n",
        "    -------\n",
        "    edited_texts : list\n",
        "        Texts with style tokens masked or removed\n",
        "\n",
        "    '''\n",
        "\n",
        "    edited_texts = []\n",
        "\n",
        "    for text in texts:\n",
        "        tokens = tokenize(text)\n",
        "        edited_tokens = []\n",
        "\n",
        "        for token in tokens:\n",
        "            if token.lower() in style_tokens:\n",
        "                if mask_style:\n",
        "                    edited_tokens.append(CUSTOM_STYLE)\n",
        "            else:\n",
        "                edited_tokens.append(token)\n",
        "\n",
        "        edited_texts.append(' '.join(edited_tokens))\n",
        "\n",
        "    return edited_texts\n",
        "\n",
        "\n",
        "def generate_style_modified_texts(texts):\n",
        "\n",
        "    # ensure consistent tokenization under different style modification settings\n",
        "    unmasked_texts = mark_style_words(texts, {})\n",
        "    texts_with_style_removed = mark_style_words(texts)\n",
        "    texts_with_style_masked = mark_style_words(texts, mask_style=True)\n",
        "    return unmasked_texts, texts_with_style_removed, texts_with_style_masked\n",
        "\n",
        "\n",
        "# MODELS / SCORING OF WMD\n",
        "def train_word2vec_model(texts, path):\n",
        "    tokenized_texts = []\n",
        "    for text in texts:\n",
        "        tokenized_texts.append(tokenize(text))\n",
        "    model = Word2Vec(tokenized_texts)\n",
        "    model.save(path)\n",
        "\n",
        "\n",
        "def load_word2vec_model(path):\n",
        "    model = Word2Vec.load(path)\n",
        "    model.init_sims(replace=True)  # normalize vectors\n",
        "    return model\n",
        "\n",
        "\n",
        "def calculate_wmd_scores(references, candidates, wmd_model):\n",
        "    '''\n",
        "    Calculate Word Mover's Distance for each (reference, candidate)\n",
        "    pair in a list of reference texts and candidate texts.\n",
        "\n",
        "    The lower the distance, the more similar the texts are.\n",
        "\n",
        "    Parameters\n",
        "    ----------\n",
        "    references : list\n",
        "        Input texts\n",
        "    candidates : list\n",
        "        Output texts (e.g. from a style transfer model)\n",
        "    wmd_model : gensim.models.word2vec.Word2Vec\n",
        "        Trained Word2Vec model\n",
        "\n",
        "    Returns\n",
        "    -------\n",
        "    wmd_scores : list\n",
        "        WMD scores for all pairs\n",
        "\n",
        "    '''\n",
        "\n",
        "    wmd_scores = []\n",
        "\n",
        "    for i in range(len(references)):\n",
        "        wmd = wmd_model.wv.wmdistance(tokenize(references[i]), tokenize(candidates[i]))\n",
        "        wmd_scores.append(wmd)\n",
        "\n",
        "    return wmd_scores\n",
        "\n",
        "\n",
        "## Example usage \n",
        "\n",
        "source_1 = ['It swept space clean, and left nothing but the joy of an unobstructed effort. Only a faint echo within the sounds spoke of that from which the music had escaped, but spoke in laughing astonishment at the discovery that there was no ugliness or pain, and there never had had to be. It was the song of an immense deliverance.']\n",
        "generated_1 = ['It was a sunburst of sound, breaking out of hiding and spreading open. It had the freedom of release and the tension of purpose. It swept space clean, and at the same time coming empty. The only sound was the coming of breathless, muffled room, but spoke in laughing astonishment at the discovery that there was no ugliness or pain, in fact, there was nothing at all. It was the song of an immense deliverance.']\n",
        "all_texts = merge_datasets(generated_1, generated_2)\n",
        "\n",
        "# # train models\n",
        "w2v_model_path = '/content/drive/My Drive/w2v'\n",
        "train_word2vec_model(all_texts, w2v_model_path)\n",
        "w2v_model = load_word2vec_model(w2v_model_path)\n",
        "print(calculate_wmd_scores(source_1, generated_1, w2v_model))"
      ],
      "execution_count": 10,
      "outputs": [
        {
          "output_type": "stream",
          "text": [
            "[0.15688595803156002]\n"
          ],
          "name": "stdout"
        },
        {
          "output_type": "stream",
          "text": [
            "/usr/local/lib/python3.6/dist-packages/smart_open/smart_open_lib.py:398: UserWarning: This function is deprecated, use smart_open.open instead. See the migration notes for details: https://github.com/RaRe-Technologies/smart_open/blob/master/README.rst#migrating-to-the-new-open-function\n",
            "  'See the migration notes for details: %s' % _MIGRATION_NOTES_URL\n"
          ],
          "name": "stderr"
        }
      ]
    }
  ]
}