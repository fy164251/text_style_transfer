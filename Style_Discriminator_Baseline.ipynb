{
  "nbformat": 4,
  "nbformat_minor": 0,
  "metadata": {
    "colab": {
      "name": "Style_Discriminator_Baseline.ipynb",
      "provenance": [],
      "collapsed_sections": []
    },
    "kernelspec": {
      "name": "python3",
      "display_name": "Python 3"
    },
    "accelerator": "GPU"
  },
  "cells": [
    {
      "cell_type": "code",
      "metadata": {
        "id": "rNxeBtweC0Vq",
        "colab_type": "code",
        "outputId": "7a3ea67d-4e9c-443c-b80d-f9c283ccc0ab",
        "colab": {
          "base_uri": "https://localhost:8080/",
          "height": 81
        }
      },
      "source": [
        "import numpy as np\n",
        "import pandas as pd\n",
        "import matplotlib.pyplot as plt\n",
        "import urllib\n",
        "import tensorflow as tf\n",
        "%tensorflow_version 2.x\n",
        "import tensorflow_hub as hub\n",
        "from tensorflow import keras\n",
        "\n",
        "\n",
        "%matplotlib inline\n",
        "\n",
        "#from google.colab import drive\n",
        "#drive.mount('/content/gdrive')"
      ],
      "execution_count": 0,
      "outputs": [
        {
          "output_type": "display_data",
          "data": {
            "text/html": [
              "<p style=\"color: red;\">\n",
              "The default version of TensorFlow in Colab will soon switch to TensorFlow 2.x.<br>\n",
              "We recommend you <a href=\"https://www.tensorflow.org/guide/migrate\" target=\"_blank\">upgrade</a> now \n",
              "or ensure your notebook will continue to use TensorFlow 1.x via the <code>%tensorflow_version 1.x</code> magic:\n",
              "<a href=\"https://colab.research.google.com/notebooks/tensorflow_version.ipynb\" target=\"_blank\">more info</a>.</p>\n"
            ],
            "text/plain": [
              "<IPython.core.display.HTML object>"
            ]
          },
          "metadata": {
            "tags": []
          }
        },
        {
          "output_type": "stream",
          "text": [
            "TensorFlow is already loaded. Please restart the runtime to change versions.\n"
          ],
          "name": "stdout"
        }
      ]
    },
    {
      "cell_type": "code",
      "metadata": {
        "id": "d2AJDl39wfZH",
        "colab_type": "code",
        "outputId": "6a685e4e-89c6-49c3-9f56-cb71d1e2b057",
        "colab": {
          "base_uri": "https://localhost:8080/",
          "height": 868
        }
      },
      "source": [
        "import nltk\n",
        "from nltk.tag.stanford import StanfordNERTagger\n",
        "\n",
        "\n",
        "!wget 'https://nlp.stanford.edu/software/stanford-ner-2018-10-16.zip'\n",
        "!unzip stanford-ner-2018-10-16.zip\n",
        "\n",
        "nltk.download('punkt')\n",
        "\n",
        "st = StanfordNERTagger('/content/stanford-ner-2018-10-16/classifiers/english.all.3class.distsim.crf.ser.gz',\n",
        "                       '/content/stanford-ner-2018-10-16/stanford-ner.jar',\n",
        "                       encoding='utf-8')"
      ],
      "execution_count": 0,
      "outputs": [
        {
          "output_type": "stream",
          "text": [
            "--2019-11-17 07:01:49--  https://nlp.stanford.edu/software/stanford-ner-2018-10-16.zip\n",
            "Resolving nlp.stanford.edu (nlp.stanford.edu)... 171.64.67.140\n",
            "Connecting to nlp.stanford.edu (nlp.stanford.edu)|171.64.67.140|:443... connected.\n",
            "HTTP request sent, awaiting response... 200 OK\n",
            "Length: 180358328 (172M) [application/zip]\n",
            "Saving to: ‘stanford-ner-2018-10-16.zip’\n",
            "\n",
            "stanford-ner-2018-1 100%[===================>] 172.00M  17.6MB/s    in 13s     \n",
            "\n",
            "2019-11-17 07:02:03 (13.3 MB/s) - ‘stanford-ner-2018-10-16.zip’ saved [180358328/180358328]\n",
            "\n",
            "Archive:  stanford-ner-2018-10-16.zip\n",
            "   creating: stanford-ner-2018-10-16/\n",
            "  inflating: stanford-ner-2018-10-16/README.txt  \n",
            "  inflating: stanford-ner-2018-10-16/ner-gui.bat  \n",
            "  inflating: stanford-ner-2018-10-16/build.xml  \n",
            "  inflating: stanford-ner-2018-10-16/stanford-ner.jar  \n",
            "  inflating: stanford-ner-2018-10-16/sample-conll-file.txt  \n",
            "  inflating: stanford-ner-2018-10-16/sample.ner.txt  \n",
            "  inflating: stanford-ner-2018-10-16/stanford-ner-3.9.2-sources.jar  \n",
            "   creating: stanford-ner-2018-10-16/lib/\n",
            "  inflating: stanford-ner-2018-10-16/lib/joda-time.jar  \n",
            "  inflating: stanford-ner-2018-10-16/lib/stanford-ner-resources.jar  \n",
            "  inflating: stanford-ner-2018-10-16/lib/jollyday-0.4.9.jar  \n",
            "  inflating: stanford-ner-2018-10-16/ner-gui.command  \n",
            "  inflating: stanford-ner-2018-10-16/ner.sh  \n",
            "  inflating: stanford-ner-2018-10-16/stanford-ner-3.9.2.jar  \n",
            "  inflating: stanford-ner-2018-10-16/NERDemo.java  \n",
            "  inflating: stanford-ner-2018-10-16/stanford-ner-3.9.2-javadoc.jar  \n",
            "  inflating: stanford-ner-2018-10-16/ner.bat  \n",
            "   creating: stanford-ner-2018-10-16/classifiers/\n",
            "  inflating: stanford-ner-2018-10-16/classifiers/english.conll.4class.distsim.prop  \n",
            "  inflating: stanford-ner-2018-10-16/classifiers/example.serialized.ncc.ncc.ser.gz  \n",
            "  inflating: stanford-ner-2018-10-16/classifiers/english.muc.7class.distsim.crf.ser.gz  \n",
            "  inflating: stanford-ner-2018-10-16/classifiers/english.conll.4class.distsim.crf.ser.gz  \n",
            "  inflating: stanford-ner-2018-10-16/classifiers/english.muc.7class.distsim.prop  \n",
            "  inflating: stanford-ner-2018-10-16/classifiers/english.all.3class.distsim.prop  \n",
            "  inflating: stanford-ner-2018-10-16/classifiers/example.serialized.ncc.prop  \n",
            "  inflating: stanford-ner-2018-10-16/classifiers/english.all.3class.distsim.crf.ser.gz  \n",
            "  inflating: stanford-ner-2018-10-16/sample.txt  \n",
            "  inflating: stanford-ner-2018-10-16/sample-w-time.txt  \n",
            "  inflating: stanford-ner-2018-10-16/ner-gui.sh  \n",
            "  inflating: stanford-ner-2018-10-16/LICENSE.txt  \n",
            "[nltk_data] Downloading package punkt to /root/nltk_data...\n",
            "[nltk_data]   Unzipping tokenizers/punkt.zip.\n"
          ],
          "name": "stdout"
        },
        {
          "output_type": "stream",
          "text": [
            "/usr/local/lib/python3.6/dist-packages/nltk/tag/stanford.py:183: DeprecationWarning: \n",
            "The StanfordTokenizer will be deprecated in version 3.2.5.\n",
            "Please use \u001b[91mnltk.tag.corenlp.CoreNLPPOSTagger\u001b[0m or \u001b[91mnltk.tag.corenlp.CoreNLPNERTagger\u001b[0m instead.\n",
            "  super(StanfordNERTagger, self).__init__(*args, **kwargs)\n"
          ],
          "name": "stderr"
        }
      ]
    },
    {
      "cell_type": "code",
      "metadata": {
        "id": "XiTpKCnZ1Vzg",
        "colab_type": "code",
        "colab": {}
      },
      "source": [
        "from nltk.tokenize import word_tokenize\n",
        "\n",
        "text = 'While in France, Christine Lagarde discussed short-term stimulus efforts in a recent interview with the Wall Street Journal.'\n",
        "\n",
        "tokenized_text = word_tokenize(text)\n",
        "classified_text = st.tag(tokenized_text)"
      ],
      "execution_count": 0,
      "outputs": []
    },
    {
      "cell_type": "code",
      "metadata": {
        "id": "_6y4MUsC1k2Q",
        "colab_type": "code",
        "outputId": "4e96a0e6-1f48-4a05-bd2f-2134e5d02c42",
        "colab": {
          "base_uri": "https://localhost:8080/",
          "height": 364
        }
      },
      "source": [
        "classified_text "
      ],
      "execution_count": 0,
      "outputs": [
        {
          "output_type": "execute_result",
          "data": {
            "text/plain": [
              "[('While', 'O'),\n",
              " ('in', 'O'),\n",
              " ('France', 'LOCATION'),\n",
              " (',', 'O'),\n",
              " ('Christine', 'PERSON'),\n",
              " ('Lagarde', 'PERSON'),\n",
              " ('discussed', 'O'),\n",
              " ('short-term', 'O'),\n",
              " ('stimulus', 'O'),\n",
              " ('efforts', 'O'),\n",
              " ('in', 'O'),\n",
              " ('a', 'O'),\n",
              " ('recent', 'O'),\n",
              " ('interview', 'O'),\n",
              " ('with', 'O'),\n",
              " ('the', 'O'),\n",
              " ('Wall', 'ORGANIZATION'),\n",
              " ('Street', 'ORGANIZATION'),\n",
              " ('Journal', 'ORGANIZATION'),\n",
              " ('.', 'O')]"
            ]
          },
          "metadata": {
            "tags": []
          },
          "execution_count": 4
        }
      ]
    },
    {
      "cell_type": "code",
      "metadata": {
        "id": "R9_lpw8kmpWY",
        "colab_type": "code",
        "colab": {}
      },
      "source": [
        "def read_txt(PATH, Ln=600):\n",
        "  '''\n",
        "  Cut raw texts in to chunks of 600 characters.\n",
        "  '''\n",
        "  txt = (open(PATH, 'r')).read()\n",
        "  txt = txt.replace('\\n', ' ')\n",
        "  l_1 = []\n",
        "  for i in range(len(txt)//Ln):\n",
        "    l_1.append(txt[i*Ln:(i+1)*Ln])\n",
        "  return l_1"
      ],
      "execution_count": 0,
      "outputs": []
    },
    {
      "cell_type": "code",
      "metadata": {
        "id": "xU4cNNrF8waU",
        "colab_type": "code",
        "colab": {}
      },
      "source": [
        "def replace_broken_words(df, author):\n",
        "  '''\n",
        "  Broken words at the beginnig and the end of each chunk are removed.\n",
        "  '''\n",
        "\n",
        "  l1 = []\n",
        "  for t in df['text']:\n",
        "    l2 = []\n",
        "    for i, v in enumerate(t):\n",
        "      if v == ' ':\n",
        "        l2.append(i)\n",
        "    s = l2[0]\n",
        "    e = l2[-1]\n",
        "    l1.append(t[s:e])\n",
        "  \n",
        "  df1 = pd.DataFrame(l1)\n",
        "  df1['author'] = author\n",
        "  df1.rename(columns={0:'text'}, inplace=True)\n",
        "  return df1"
      ],
      "execution_count": 0,
      "outputs": []
    },
    {
      "cell_type": "code",
      "metadata": {
        "id": "rZb8GvJW7o8b",
        "colab_type": "code",
        "colab": {}
      },
      "source": [
        "# Data Preparation\n",
        "\n",
        "PATH = './gdrive/My Drive/DL/Style/Nabokov-all.txt'\n",
        "natxt = read_txt(PATH)\n",
        "\n",
        "PATH2 = './gdrive/My Drive/DL/Style/Austen-all.txt'\n",
        "autxt = read_txt(PATH2)\n",
        "\n",
        "PATH3 = './gdrive/My Drive/DL/Style/Dumas-all.txt'\n",
        "dutxt = read_txt(PATH3)\n",
        "\n",
        "dict1 = {'text': natxt, 'author': 'Nabokov'}\n",
        "dict2 = {'text': autxt, 'author': 'Austen'}\n",
        "dict3 = {'text': dutxt, 'author': 'Dumas'}\n",
        "\n",
        "\n",
        "na = pd.DataFrame(dict1)\n",
        "au = pd.DataFrame(dict2)\n",
        "du = pd.DataFrame(dict3)\n",
        "\n",
        "na = replace_broken_words(na, 'Nabokov')\n",
        "au = replace_broken_words(au, 'Austen')\n",
        "du = replace_broken_words(du, 'Dumas')\n",
        "\n",
        "author = [na, au, du]\n",
        "df = pd.concat(author)\n",
        "\n",
        "na = na.sample(3000)\n",
        "au = au.sample(3000)\n",
        "du = du.sample(3000)\n",
        "\n",
        "author = [na, au, du]\n",
        "df3000 = pd.concat(author)"
      ],
      "execution_count": 0,
      "outputs": []
    },
    {
      "cell_type": "code",
      "metadata": {
        "id": "8voobJTDClU_",
        "colab_type": "code",
        "colab": {}
      },
      "source": [
        "df.to_csv('./gdrive/My Drive/DL/Style/raw_text.csv')\n",
        "df3000.to_csv('./gdrive/My Drive/DL/Style/raw_text_3000.csv')"
      ],
      "execution_count": 0,
      "outputs": []
    },
    {
      "cell_type": "code",
      "metadata": {
        "id": "XaiFHkcwSGDJ",
        "colab_type": "code",
        "colab": {}
      },
      "source": [
        "from sklearn import preprocessing, decomposition, model_selection, metrics, pipeline\n",
        "from sklearn.model_selection import GridSearchCV\n",
        "from sklearn.feature_extraction.text import TfidfVectorizer, CountVectorizer\n",
        "from sklearn.decomposition import TruncatedSVD\n",
        "from sklearn.linear_model import LogisticRegression\n",
        "from sklearn.naive_bayes import MultinomialNB\n",
        "from nltk import word_tokenize\n",
        "from nltk.corpus import stopwords\n",
        "#stop_words = stopwords.words('english')\n",
        "from sklearn.metrics import roc_auc_score, classification_report\n",
        "from sklearn.preprocessing import LabelEncoder\n",
        "from sklearn.model_selection import StratifiedKFold, KFold\n",
        "from sklearn.svm import SVC\n",
        "import xgboost as xgb"
      ],
      "execution_count": 0,
      "outputs": []
    },
    {
      "cell_type": "code",
      "metadata": {
        "id": "DZyEkIa8L-0w",
        "colab_type": "code",
        "outputId": "38e1f55d-f3dd-4457-9afc-345b0aaf45d6",
        "colab": {
          "base_uri": "https://localhost:8080/",
          "height": 34
        }
      },
      "source": [
        "url = 'https://raw.githubusercontent.com/fy164251/text_style_transfer/master/Datasets/raw_text.csv'\n",
        "df = pd.read_csv(url)\n",
        "\n",
        "X = df.text.values\n",
        "y = df.author.astype('category')\n",
        "\n",
        "lbl_enc = preprocessing.LabelEncoder()\n",
        "y = lbl_enc.fit_transform(y.values)\n",
        "\n",
        "xtrain, xvalid, ytrain, yvalid = train_test_split(X, y, stratify=y, random_state=1, test_size=0.2, shuffle=True)\n",
        "xvalid, xtest, yvalid, ytest = train_test_split(xvalid, yvalid, test_size=0.5, random_state=1, shuffle=True)\n",
        "\n",
        "print(xtrain.shape, xvalid.shape)"
      ],
      "execution_count": 0,
      "outputs": [
        {
          "output_type": "stream",
          "text": [
            "(28699,) (3587,)\n"
          ],
          "name": "stdout"
        }
      ]
    },
    {
      "cell_type": "code",
      "metadata": {
        "id": "VEpMEuBiR3-R",
        "colab_type": "code",
        "colab": {}
      },
      "source": [
        "def multiclass_logloss(actual, predicted, eps=1e-15):\n",
        "    \"\"\"Multi class version of Logarithmic Loss metric.\n",
        "    :param actual: Array containing the actual target classes\n",
        "    :param predicted: Matrix with class predictions, one probability per class\n",
        "    \"\"\"\n",
        "    # Convert 'actual' to a binary array if it's not already:\n",
        "    if len(actual.shape) == 1:\n",
        "        actual2 = np.zeros((actual.shape[0], predicted.shape[1]))\n",
        "        for i, val in enumerate(actual):\n",
        "            actual2[i, val] = 1\n",
        "        actual = actual2\n",
        "\n",
        "    clip = np.clip(predicted, eps, 1 - eps)\n",
        "    rows = actual.shape[0]\n",
        "    vsota = np.sum(actual * np.log(clip))\n",
        "    return -1.0 / rows * vsota"
      ],
      "execution_count": 0,
      "outputs": []
    },
    {
      "cell_type": "markdown",
      "metadata": {
        "id": "UZNN_AybR9ad",
        "colab_type": "text"
      },
      "source": [
        "# Baselines"
      ]
    },
    {
      "cell_type": "markdown",
      "metadata": {
        "id": "aGjyCGvWXbvR",
        "colab_type": "text"
      },
      "source": [
        "## TF-IDF Features + Logistic Regression"
      ]
    },
    {
      "cell_type": "code",
      "metadata": {
        "id": "rCGwEkugS0Bi",
        "colab_type": "code",
        "outputId": "03992b95-6813-4ba3-8c90-6309a1dbdcf3",
        "colab": {
          "base_uri": "https://localhost:8080/",
          "height": 350
        }
      },
      "source": [
        "#TF-IDF features\n",
        "tfv = TfidfVectorizer(min_df=3, max_features=None, strip_accents='unicode', analyzer='word', token_pattern=r'\\w{1,}', ngram_range=(1,3), use_idf=1, smooth_idf=1, sublinear_tf=1,\n",
        "                     stop_words='english')\n",
        "\n",
        "tfv.fit(list(xtrain) + list(xvalid))\n",
        "xtrain_tfv = tfv.transform(xtrain)\n",
        "xvalid_tfv = tfv.transform(xvalid)\n",
        "\n",
        "print(\"The size of the learnt vocabulary is \", len(tfv.vocabulary_))\n",
        "\n",
        "def display_scores(vectorizer, tfidf_result):\n",
        "    scores = zip(vectorizer.get_feature_names(), np.asarray(tfidf_result.sum(axis=0)).ravel())\n",
        "    sorted_scores = sorted(scores, key=lambda x: x[1], reverse=True)\n",
        "    count = 0\n",
        "    for item in sorted_scores: \n",
        "        print(item[0], item[1])\n",
        "        count += 1\n",
        "        if count>=10:\n",
        "            break\n",
        "\n",
        "#See top 10 TF-IDF scores\n",
        "print('Top 10 TF-IDF scores are --- \\n')\n",
        "display_scores(tfv,xvalid_tfv)\n",
        "\n",
        "\n",
        "\n",
        "#Logistic Regression on TF-IDF\n",
        "clf = LogisticRegression(C=1.0)\n",
        "clf.fit(xtrain_tfv, ytrain)\n",
        "predictions = clf.predict_proba(xvalid_tfv)\n",
        "print(\"logloss for TF-IDF + LR : \" + str(multiclass_logloss(yvalid, predictions)))"
      ],
      "execution_count": 0,
      "outputs": [
        {
          "output_type": "stream",
          "text": [
            "The size of the learnt vocabulary is  87243\n",
            "Top 10 TF-IDF scores are --- \n",
            "\n",
            "s 65.32906399321196\n",
            "said 62.012499674117485\n",
            "d 36.62009665023877\n",
            "did 34.57324722586879\n",
            "man 34.27772053098513\n",
            "little 33.23118294228048\n",
            "time 32.770131950506126\n",
            "artagnan 32.46868149759843\n",
            "d artagnan 32.46868149759843\n",
            "like 31.982415663713393\n"
          ],
          "name": "stdout"
        },
        {
          "output_type": "stream",
          "text": [
            "/usr/local/lib/python3.6/dist-packages/sklearn/linear_model/logistic.py:432: FutureWarning: Default solver will be changed to 'lbfgs' in 0.22. Specify a solver to silence this warning.\n",
            "  FutureWarning)\n",
            "/usr/local/lib/python3.6/dist-packages/sklearn/linear_model/logistic.py:469: FutureWarning: Default multi_class will be changed to 'auto' in 0.22. Specify the multi_class option to silence this warning.\n",
            "  \"this warning.\", FutureWarning)\n"
          ],
          "name": "stderr"
        },
        {
          "output_type": "stream",
          "text": [
            "logloss : 0.15634701358774225\n"
          ],
          "name": "stdout"
        }
      ]
    },
    {
      "cell_type": "markdown",
      "metadata": {
        "id": "W33aI_UnXhsf",
        "colab_type": "text"
      },
      "source": [
        "## Count Vectorizer + Logistic Regression"
      ]
    },
    {
      "cell_type": "code",
      "metadata": {
        "id": "ocsdLpT5UeNb",
        "colab_type": "code",
        "outputId": "e85a3f39-e649-499e-a5b1-eafd4c9eae39",
        "colab": {
          "base_uri": "https://localhost:8080/",
          "height": 380
        }
      },
      "source": [
        "ctv = CountVectorizer(analyzer='word', token_pattern=r'\\w{1,}', ngram_range=(1,3), stop_words='english')\n",
        "ctv.fit(list(xtrain) + list(xvalid))\n",
        "xtrain_ctv = ctv.transform(xtrain)\n",
        "xvalid_ctv = ctv.transform(xvalid)\n",
        "\n",
        "clf.fit(xtrain_ctv, ytrain)\n",
        "predictions = clf.predict_proba(xvalid_ctv)\n",
        "predictions_rounded = clf.predict(xvalid_ctv)\n",
        "print(\"logloss for CVectorizer + LR : \", multiclass_logloss(yvalid, predictions))\n",
        "print(classification_report(yvalid, predictions_rounded))"
      ],
      "execution_count": 0,
      "outputs": [
        {
          "output_type": "error",
          "ename": "KeyboardInterrupt",
          "evalue": "ignored",
          "traceback": [
            "\u001b[0;31m---------------------------------------------------------------------------\u001b[0m",
            "\u001b[0;31mKeyboardInterrupt\u001b[0m                         Traceback (most recent call last)",
            "\u001b[0;32m<ipython-input-45-221392408e08>\u001b[0m in \u001b[0;36m<module>\u001b[0;34m()\u001b[0m\n\u001b[1;32m      4\u001b[0m \u001b[0mxvalid_ctv\u001b[0m \u001b[0;34m=\u001b[0m \u001b[0mctv\u001b[0m\u001b[0;34m.\u001b[0m\u001b[0mtransform\u001b[0m\u001b[0;34m(\u001b[0m\u001b[0mxvalid\u001b[0m\u001b[0;34m)\u001b[0m\u001b[0;34m\u001b[0m\u001b[0;34m\u001b[0m\u001b[0m\n\u001b[1;32m      5\u001b[0m \u001b[0;34m\u001b[0m\u001b[0m\n\u001b[0;32m----> 6\u001b[0;31m \u001b[0mclf\u001b[0m\u001b[0;34m.\u001b[0m\u001b[0mfit\u001b[0m\u001b[0;34m(\u001b[0m\u001b[0mxtrain_ctv\u001b[0m\u001b[0;34m,\u001b[0m \u001b[0mytrain\u001b[0m\u001b[0;34m)\u001b[0m\u001b[0;34m\u001b[0m\u001b[0;34m\u001b[0m\u001b[0m\n\u001b[0m\u001b[1;32m      7\u001b[0m \u001b[0mpredictions\u001b[0m \u001b[0;34m=\u001b[0m \u001b[0mclf\u001b[0m\u001b[0;34m.\u001b[0m\u001b[0mpredict_proba\u001b[0m\u001b[0;34m(\u001b[0m\u001b[0mxvalid_ctv\u001b[0m\u001b[0;34m)\u001b[0m\u001b[0;34m\u001b[0m\u001b[0;34m\u001b[0m\u001b[0m\n\u001b[1;32m      8\u001b[0m \u001b[0mpredictions_rounded\u001b[0m \u001b[0;34m=\u001b[0m \u001b[0mclf\u001b[0m\u001b[0;34m.\u001b[0m\u001b[0mpredict\u001b[0m\u001b[0;34m(\u001b[0m\u001b[0mxvalid_ctv\u001b[0m\u001b[0;34m)\u001b[0m\u001b[0;34m\u001b[0m\u001b[0;34m\u001b[0m\u001b[0m\n",
            "\u001b[0;32m/usr/local/lib/python3.6/dist-packages/xgboost/sklearn.py\u001b[0m in \u001b[0;36mfit\u001b[0;34m(self, X, y, sample_weight, eval_set, eval_metric, early_stopping_rounds, verbose, xgb_model, sample_weight_eval_set, callbacks)\u001b[0m\n\u001b[1;32m    730\u001b[0m                               \u001b[0mevals_result\u001b[0m\u001b[0;34m=\u001b[0m\u001b[0mevals_result\u001b[0m\u001b[0;34m,\u001b[0m \u001b[0mobj\u001b[0m\u001b[0;34m=\u001b[0m\u001b[0mobj\u001b[0m\u001b[0;34m,\u001b[0m \u001b[0mfeval\u001b[0m\u001b[0;34m=\u001b[0m\u001b[0mfeval\u001b[0m\u001b[0;34m,\u001b[0m\u001b[0;34m\u001b[0m\u001b[0;34m\u001b[0m\u001b[0m\n\u001b[1;32m    731\u001b[0m                               \u001b[0mverbose_eval\u001b[0m\u001b[0;34m=\u001b[0m\u001b[0mverbose\u001b[0m\u001b[0;34m,\u001b[0m \u001b[0mxgb_model\u001b[0m\u001b[0;34m=\u001b[0m\u001b[0mxgb_model\u001b[0m\u001b[0;34m,\u001b[0m\u001b[0;34m\u001b[0m\u001b[0;34m\u001b[0m\u001b[0m\n\u001b[0;32m--> 732\u001b[0;31m                               callbacks=callbacks)\n\u001b[0m\u001b[1;32m    733\u001b[0m \u001b[0;34m\u001b[0m\u001b[0m\n\u001b[1;32m    734\u001b[0m         \u001b[0mself\u001b[0m\u001b[0;34m.\u001b[0m\u001b[0mobjective\u001b[0m \u001b[0;34m=\u001b[0m \u001b[0mxgb_options\u001b[0m\u001b[0;34m[\u001b[0m\u001b[0;34m\"objective\"\u001b[0m\u001b[0;34m]\u001b[0m\u001b[0;34m\u001b[0m\u001b[0;34m\u001b[0m\u001b[0m\n",
            "\u001b[0;32m/usr/local/lib/python3.6/dist-packages/xgboost/training.py\u001b[0m in \u001b[0;36mtrain\u001b[0;34m(params, dtrain, num_boost_round, evals, obj, feval, maximize, early_stopping_rounds, evals_result, verbose_eval, xgb_model, callbacks, learning_rates)\u001b[0m\n\u001b[1;32m    214\u001b[0m                            \u001b[0mevals\u001b[0m\u001b[0;34m=\u001b[0m\u001b[0mevals\u001b[0m\u001b[0;34m,\u001b[0m\u001b[0;34m\u001b[0m\u001b[0;34m\u001b[0m\u001b[0m\n\u001b[1;32m    215\u001b[0m                            \u001b[0mobj\u001b[0m\u001b[0;34m=\u001b[0m\u001b[0mobj\u001b[0m\u001b[0;34m,\u001b[0m \u001b[0mfeval\u001b[0m\u001b[0;34m=\u001b[0m\u001b[0mfeval\u001b[0m\u001b[0;34m,\u001b[0m\u001b[0;34m\u001b[0m\u001b[0;34m\u001b[0m\u001b[0m\n\u001b[0;32m--> 216\u001b[0;31m                            xgb_model=xgb_model, callbacks=callbacks)\n\u001b[0m\u001b[1;32m    217\u001b[0m \u001b[0;34m\u001b[0m\u001b[0m\n\u001b[1;32m    218\u001b[0m \u001b[0;34m\u001b[0m\u001b[0m\n",
            "\u001b[0;32m/usr/local/lib/python3.6/dist-packages/xgboost/training.py\u001b[0m in \u001b[0;36m_train_internal\u001b[0;34m(params, dtrain, num_boost_round, evals, obj, feval, xgb_model, callbacks)\u001b[0m\n\u001b[1;32m     72\u001b[0m         \u001b[0;31m# Skip the first update if it is a recovery step.\u001b[0m\u001b[0;34m\u001b[0m\u001b[0;34m\u001b[0m\u001b[0;34m\u001b[0m\u001b[0m\n\u001b[1;32m     73\u001b[0m         \u001b[0;32mif\u001b[0m \u001b[0mversion\u001b[0m \u001b[0;34m%\u001b[0m \u001b[0;36m2\u001b[0m \u001b[0;34m==\u001b[0m \u001b[0;36m0\u001b[0m\u001b[0;34m:\u001b[0m\u001b[0;34m\u001b[0m\u001b[0;34m\u001b[0m\u001b[0m\n\u001b[0;32m---> 74\u001b[0;31m             \u001b[0mbst\u001b[0m\u001b[0;34m.\u001b[0m\u001b[0mupdate\u001b[0m\u001b[0;34m(\u001b[0m\u001b[0mdtrain\u001b[0m\u001b[0;34m,\u001b[0m \u001b[0mi\u001b[0m\u001b[0;34m,\u001b[0m \u001b[0mobj\u001b[0m\u001b[0;34m)\u001b[0m\u001b[0;34m\u001b[0m\u001b[0;34m\u001b[0m\u001b[0m\n\u001b[0m\u001b[1;32m     75\u001b[0m             \u001b[0mbst\u001b[0m\u001b[0;34m.\u001b[0m\u001b[0msave_rabit_checkpoint\u001b[0m\u001b[0;34m(\u001b[0m\u001b[0;34m)\u001b[0m\u001b[0;34m\u001b[0m\u001b[0;34m\u001b[0m\u001b[0m\n\u001b[1;32m     76\u001b[0m             \u001b[0mversion\u001b[0m \u001b[0;34m+=\u001b[0m \u001b[0;36m1\u001b[0m\u001b[0;34m\u001b[0m\u001b[0;34m\u001b[0m\u001b[0m\n",
            "\u001b[0;32m/usr/local/lib/python3.6/dist-packages/xgboost/core.py\u001b[0m in \u001b[0;36mupdate\u001b[0;34m(self, dtrain, iteration, fobj)\u001b[0m\n\u001b[1;32m   1107\u001b[0m         \u001b[0;32mif\u001b[0m \u001b[0mfobj\u001b[0m \u001b[0;32mis\u001b[0m \u001b[0;32mNone\u001b[0m\u001b[0;34m:\u001b[0m\u001b[0;34m\u001b[0m\u001b[0;34m\u001b[0m\u001b[0m\n\u001b[1;32m   1108\u001b[0m             _check_call(_LIB.XGBoosterUpdateOneIter(self.handle, ctypes.c_int(iteration),\n\u001b[0;32m-> 1109\u001b[0;31m                                                     dtrain.handle))\n\u001b[0m\u001b[1;32m   1110\u001b[0m         \u001b[0;32melse\u001b[0m\u001b[0;34m:\u001b[0m\u001b[0;34m\u001b[0m\u001b[0;34m\u001b[0m\u001b[0m\n\u001b[1;32m   1111\u001b[0m             \u001b[0mpred\u001b[0m \u001b[0;34m=\u001b[0m \u001b[0mself\u001b[0m\u001b[0;34m.\u001b[0m\u001b[0mpredict\u001b[0m\u001b[0;34m(\u001b[0m\u001b[0mdtrain\u001b[0m\u001b[0;34m)\u001b[0m\u001b[0;34m\u001b[0m\u001b[0;34m\u001b[0m\u001b[0m\n",
            "\u001b[0;31mKeyboardInterrupt\u001b[0m: "
          ]
        }
      ]
    },
    {
      "cell_type": "markdown",
      "metadata": {
        "id": "tzzBfYRGXmoW",
        "colab_type": "text"
      },
      "source": [
        "## Naive Bayes + TFIDF and Naive Bayes + Count Vectorizer"
      ]
    },
    {
      "cell_type": "code",
      "metadata": {
        "id": "XOgPmD08U3pA",
        "colab_type": "code",
        "outputId": "52d10012-07c5-4b0d-c696-811ee1928aaa",
        "colab": {
          "base_uri": "https://localhost:8080/",
          "height": 52
        }
      },
      "source": [
        "#Multinomial Naive Bayes on TF-IDF\n",
        "clf = MultinomialNB()\n",
        "clf.fit(xtrain_tfv, ytrain)\n",
        "predictions = clf.predict_proba(xvalid_tfv)\n",
        "print(\"logloss for Multinomial Naive Bayes: \", multiclass_logloss(yvalid, predictions))\n",
        "\n",
        "#Multinomial Naive Bayes on Count Vectors\n",
        "clf.fit(xtrain_ctv, ytrain)\n",
        "predictions = clf.predict_proba(xvalid_ctv)\n",
        "print(\"logloss for Multinomial Naive Bayes with count vectorizer : \", multiclass_logloss(yvalid, predictions))"
      ],
      "execution_count": 0,
      "outputs": [
        {
          "output_type": "stream",
          "text": [
            "logloss for Multinomial Naive Bayes:  0.0812769676344614\n",
            "logloss for Multinomial Naive Bayes with count vectorizer :  0.04169366813496661\n"
          ],
          "name": "stdout"
        }
      ]
    },
    {
      "cell_type": "markdown",
      "metadata": {
        "id": "XNGrr-cyXsZq",
        "colab_type": "text"
      },
      "source": [
        "## TF-IDF + SVD --> SVM"
      ]
    },
    {
      "cell_type": "code",
      "metadata": {
        "id": "hF4LjnJjV3ef",
        "colab_type": "code",
        "colab": {}
      },
      "source": [
        "# SVD on TF-IDF --> SVM\n",
        "\n",
        "svd = decomposition.TruncatedSVD(n_components=100)\n",
        "svd.fit(xtrain_tfv)\n",
        "xtrain_svd = svd.transform(xtrain_tfv)\n",
        "xvalid_svd = svd.transform(xvalid_tfv)\n",
        "\n",
        "scl = preprocessing.StandardScaler()\n",
        "scl.fit(xtrain_svd)\n",
        "xtrain_svd_scl = scl.transform(xtrain_svd)\n",
        "xvalid_svd_scl = scl.transform(xvalid_svd)\n",
        "\n",
        "clf = SVC(C=1.0, probability=True)\n",
        "clf.fit(xtrain_svd_scl, ytrain)\n",
        "predictions = clf.predict_proba(xvalid_svd_scl)\n",
        "predictions_rounded = clf.predict(xvalid_svd_scl)\n",
        "print(\" SVM logloss : \", multiclass_logloss(yvalid, predictions))\n",
        "print(classification_report(yavlid, predictions_rounded))"
      ],
      "execution_count": 0,
      "outputs": []
    },
    {
      "cell_type": "markdown",
      "metadata": {
        "id": "0ueI67HtX74c",
        "colab_type": "text"
      },
      "source": [
        "## TFIDF + SVD --> XGBOOST"
      ]
    },
    {
      "cell_type": "code",
      "metadata": {
        "id": "ULH-DmZxV-aY",
        "colab_type": "code",
        "outputId": "17ca6621-e65c-41a9-e450-c3a50052f4d1",
        "colab": {
          "base_uri": "https://localhost:8080/",
          "height": 208
        }
      },
      "source": [
        "# XGBoost on SVD features\n",
        "clf = xgb.XGBClassifier()\n",
        "clf.fit(xtrain_svd, ytrain)\n",
        "predictions = clf.predict_proba(xvalid_svd)\n",
        "predictions_rounded = clf.predict(xvalid_svd)\n",
        "\n",
        "print (\"XGBOOST logloss: %0.3f \" % multiclass_logloss(yvalid, predictions))\n",
        "print(classification_report(yvalid, predictions_rounded))"
      ],
      "execution_count": 0,
      "outputs": [
        {
          "output_type": "stream",
          "text": [
            "XGBOOST logloss: 0.077 \n",
            "              precision    recall  f1-score   support\n",
            "\n",
            "           0       0.98      0.96      0.97       677\n",
            "           1       0.98      0.97      0.98      1318\n",
            "           2       0.97      0.98      0.98      1592\n",
            "\n",
            "    accuracy                           0.98      3587\n",
            "   macro avg       0.98      0.97      0.97      3587\n",
            "weighted avg       0.98      0.98      0.98      3587\n",
            "\n"
          ],
          "name": "stdout"
        }
      ]
    },
    {
      "cell_type": "code",
      "metadata": {
        "id": "qN-9ceXdlZCq",
        "colab_type": "code",
        "colab": {}
      },
      "source": [
        "url = 'https://raw.githubusercontent.com/fy164251/text_style_transfer/master/Datasets/raw_text.csv'\n",
        "df = pd.read_csv(url)\n",
        "\n",
        "X = df.text.astype('str')\n",
        "y = df.author.astype('category')\n",
        "\n",
        "from keras.preprocessing.text import Tokenizer\n",
        "from keras.preprocessing.sequence import pad_sequences\n",
        "\n",
        "max_words = 10000  # We will keep only the 10000 most common words\n",
        "\n",
        "tokenizer = Tokenizer(num_words=max_words, oov_token='<oov>') \n",
        "tokenizer.fit_on_texts(X) \n",
        "sequences = tokenizer.texts_to_sequences(X) # list: string - numbers(indices)\n",
        "word_index = tokenizer.word_index # dict: word - number(index)\n",
        "\n",
        "print('Found {} unique tokens.'.format(len(word_index)))\n",
        "\n",
        "# Furthermore, we need to pad the sequences so that their lengths are the same and do not exceed a specific maximum length.\n",
        "maxlen = 256\n",
        "X = pad_sequences(sequences, maxlen=maxlen, truncating=\"post\")\n",
        "\n",
        "from sklearn.preprocessing import OneHotEncoder\n",
        "\n",
        "# Transform the target authors to one-hot encoding\n",
        "y = np.asarray(y)\n",
        "onehot_encoder = OneHotEncoder(sparse=False)\n",
        "encoded = y.reshape(len(y), 1)\n",
        "y = onehot_encoder.fit_transform(encoded)\n",
        "\n",
        "print('Shape of data tensor: ', X.shape)\n",
        "print('Shape of label tensor: ', y.shape)\n",
        "\n",
        "'''\n",
        "embeddings_index = {}\n",
        "gl_PATH = './gdrive/My Drive/DL/NLP/GloVe/glove.6B.200d.txt' \n",
        "f = open(gl_PATH)\n",
        "for line in f:\n",
        "  values = line.split()\n",
        "  word = values[0]\n",
        "  coefs = np.asarray(values[1:], dtype='float32')\n",
        "  embeddings_index[word] = coefs\n",
        "f.close()\n",
        "\n",
        "print('Found {} word vectors.'.format(len(embeddings_index)))\n",
        "\n",
        "embedding_dim = 200\n",
        "embedding_matrix = np.zeros((max_words, embedding_dim))\n",
        "for word, i in word_index.items(): \n",
        "  if i < max_words:\n",
        "    embedding_vector = embeddings_index.get(word)\n",
        "    if embedding_vector is not None:\n",
        "      embedding_matrix[i] = embedding_vector'''\n",
        "      \n",
        "\n",
        "from sklearn.model_selection import train_test_split\n",
        "\n",
        "# Split data into training, validation and test data sets.\n",
        "X_train, X_val, y_train, y_val = train_test_split(X, y, test_size=0.2, random_state=1)\n",
        "X_val, X_test, y_val, y_test = train_test_split(X_val, y_val, test_size=0.5, random_state=1)\n",
        "\n",
        "# tr, X, y, tokenizer, sequences, word_index, embeddings_index = [], [], [], [], [], [], []"
      ],
      "execution_count": 0,
      "outputs": []
    },
    {
      "cell_type": "code",
      "metadata": {
        "id": "dDHnvFgPqk-c",
        "colab_type": "code",
        "outputId": "98cc1b97-e980-43cc-a61c-40c97cb2922e",
        "colab": {
          "base_uri": "https://localhost:8080/",
          "height": 326
        }
      },
      "source": [
        "!pip install keras-layer-normalization\n",
        "\n",
        "from keras.models import Sequential, Model, load_model\n",
        "from keras.layers import Embedding, LSTM, Dense, Input, Dropout, GRU, Conv1D, MaxPooling1D, BatchNormalization, Activation, concatenate\n",
        "from keras.layers import Bidirectional, Flatten, RepeatVector, Permute, Multiply, Lambda, TimeDistributed\n",
        "from keras import backend as K\n",
        "\n",
        "from keras.regularizers import l2\n",
        "from keras.optimizers import Adam\n",
        "from keras.callbacks import EarlyStopping, ModelCheckpoint\n",
        "\n",
        "from keras_layer_normalization import LayerNormalization"
      ],
      "execution_count": 0,
      "outputs": [
        {
          "output_type": "stream",
          "text": [
            "Collecting keras-layer-normalization\n",
            "  Downloading https://files.pythonhosted.org/packages/a4/0e/d1078df0494bac9ce1a67954e5380b6e7569668f0f3b50a9531c62c1fc4a/keras-layer-normalization-0.14.0.tar.gz\n",
            "Requirement already satisfied: numpy in /usr/local/lib/python3.6/dist-packages (from keras-layer-normalization) (1.17.3)\n",
            "Requirement already satisfied: Keras in /usr/local/lib/python3.6/dist-packages (from keras-layer-normalization) (2.2.5)\n",
            "Requirement already satisfied: keras-applications>=1.0.8 in /usr/local/lib/python3.6/dist-packages (from Keras->keras-layer-normalization) (1.0.8)\n",
            "Requirement already satisfied: scipy>=0.14 in /usr/local/lib/python3.6/dist-packages (from Keras->keras-layer-normalization) (1.3.1)\n",
            "Requirement already satisfied: pyyaml in /usr/local/lib/python3.6/dist-packages (from Keras->keras-layer-normalization) (3.13)\n",
            "Requirement already satisfied: six>=1.9.0 in /usr/local/lib/python3.6/dist-packages (from Keras->keras-layer-normalization) (1.12.0)\n",
            "Requirement already satisfied: h5py in /usr/local/lib/python3.6/dist-packages (from Keras->keras-layer-normalization) (2.8.0)\n",
            "Requirement already satisfied: keras-preprocessing>=1.1.0 in /usr/local/lib/python3.6/dist-packages (from Keras->keras-layer-normalization) (1.1.0)\n",
            "Building wheels for collected packages: keras-layer-normalization\n",
            "  Building wheel for keras-layer-normalization (setup.py) ... \u001b[?25l\u001b[?25hdone\n",
            "  Created wheel for keras-layer-normalization: filename=keras_layer_normalization-0.14.0-cp36-none-any.whl size=5268 sha256=6bbecf33c0f6d5a02cf72b8c12f042fbbef1e4209661995ced8790320c20fbf9\n",
            "  Stored in directory: /root/.cache/pip/wheels/54/80/22/a638a7d406fd155e507aa33d703e3fa2612b9eb7bb4f4fe667\n",
            "Successfully built keras-layer-normalization\n",
            "Installing collected packages: keras-layer-normalization\n",
            "Successfully installed keras-layer-normalization-0.14.0\n"
          ],
          "name": "stdout"
        }
      ]
    },
    {
      "cell_type": "code",
      "metadata": {
        "colab_type": "code",
        "outputId": "55d08e8d-fcce-4769-b9e0-d2c7d4c14dd5",
        "id": "CTSj0K7qwMcy",
        "colab": {
          "base_uri": "https://localhost:8080/",
          "height": 1000
        }
      },
      "source": [
        "# We build a baseline model for the style discriminator.\n",
        "# We use 200d GloVe pre-trained model as word embedding layer, followed by a 1d convolutional layer and max-pooling.\n",
        "# The output of the pooling layer are fed into two stacked GRU layers. \n",
        "# Furthermore, two skip connections are built such that information flows from lower-level feature respresentations are allowed.\n",
        "\n",
        "units = 32\n",
        "lr = 0.0005\n",
        "patience = 5\n",
        "\n",
        "\n",
        "inputs = Input(shape=(256,), dtype='int32')\n",
        "x = Embedding(max_words, embedding_dim, input_length=maxlen)(inputs)\n",
        "\n",
        "x = Conv1D(units * 2, \n",
        "           7,\n",
        "           padding=\"same\",\n",
        "           kernel_regularizer=l2(0.01),\n",
        "           kernel_initializer=keras.initializers.he_normal(seed=42))(x)\n",
        "x = BatchNormalization()(x)\n",
        "x = Activation('relu')(x)\n",
        "c = MaxPooling1D(3)(x)\n",
        "\n",
        "b = GRU(units,\n",
        "        return_sequences=True,        \n",
        "        kernel_initializer=keras.initializers.Orthogonal(seed=42),\n",
        "        dropout=0.2, recurrent_dropout=0.2\n",
        "        )(c)\n",
        "x = LayerNormalization()(b)\n",
        "\n",
        "c = concatenate([c, x])\n",
        "\n",
        "b = GRU(units,\n",
        "        return_sequences=True,        \n",
        "        kernel_initializer=keras.initializers.Orthogonal(seed=42),\n",
        "        # dropout=0.2, recurrent_dropout=0.2\n",
        "        )(c)\n",
        "x = LayerNormalization()(b)\n",
        "\n",
        "c = concatenate([c, x])\n",
        "c = Flatten()(c)\n",
        "\n",
        "outputs = Dense(3, activation=\"softmax\")(c)\n",
        "\n",
        "model = Model(inputs=inputs, outputs=outputs)\n",
        "\n",
        "model.layers[1].set_weights([embedding_matrix])\n",
        "model.layers[1].trainable = False\n",
        "\n",
        "model.compile(optimizer=Adam(lr=lr),\n",
        "              loss=\"categorical_crossentropy\",\n",
        "              metrics=[\"acc\"])\n",
        "\n",
        "model.fit(x=X_train,\n",
        "          y=y_train,\n",
        "          validation_data=[X_val, y_val],\n",
        "          epochs=patience, \n",
        "          batch_size=2048)\n",
        "\n",
        "cb = EarlyStopping(monitor='val_loss', \n",
        "                   mode='min', \n",
        "                   verbose=0, \n",
        "                   patience=patience,\n",
        "                   restore_best_weights=True)\n",
        "\n",
        "model.compile(optimizer=Adam(lr=lr/3),\n",
        "              loss=\"categorical_crossentropy\",\n",
        "              metrics=[\"acc\"])\n",
        "\n",
        "model.fit(x=X_train, \n",
        "          y=y_train,\n",
        "          validation_data=[X_val, y_val],\n",
        "          epochs=99, \n",
        "          batch_size=2048,\n",
        "          callbacks=[cb])\n",
        "\n",
        "model.compile(optimizer=Adam(lr=lr/6),\n",
        "              loss=\"categorical_crossentropy\",\n",
        "              metrics=[\"acc\"])\n",
        "\n",
        "model.fit(x=X_train, \n",
        "          y=y_train,\n",
        "          validation_data=[X_val, y_val],\n",
        "          epochs=99, \n",
        "          batch_size=2048,\n",
        "          callbacks=[cb])\n",
        "\n",
        "\n",
        "print('===Evaluation===')\n",
        "model.evaluate(X_test, y_test)"
      ],
      "execution_count": 0,
      "outputs": [
        {
          "output_type": "stream",
          "text": [
            "WARNING:tensorflow:From /usr/local/lib/python3.6/dist-packages/keras/backend/tensorflow_backend.py:66: The name tf.get_default_graph is deprecated. Please use tf.compat.v1.get_default_graph instead.\n",
            "\n",
            "WARNING:tensorflow:From /usr/local/lib/python3.6/dist-packages/keras/backend/tensorflow_backend.py:541: The name tf.placeholder is deprecated. Please use tf.compat.v1.placeholder instead.\n",
            "\n",
            "WARNING:tensorflow:From /usr/local/lib/python3.6/dist-packages/keras/backend/tensorflow_backend.py:4432: The name tf.random_uniform is deprecated. Please use tf.random.uniform instead.\n",
            "\n",
            "WARNING:tensorflow:From /usr/local/lib/python3.6/dist-packages/keras/backend/tensorflow_backend.py:4479: The name tf.truncated_normal is deprecated. Please use tf.random.truncated_normal instead.\n",
            "\n",
            "WARNING:tensorflow:From /usr/local/lib/python3.6/dist-packages/keras/backend/tensorflow_backend.py:148: The name tf.placeholder_with_default is deprecated. Please use tf.compat.v1.placeholder_with_default instead.\n",
            "\n",
            "WARNING:tensorflow:From /usr/local/lib/python3.6/dist-packages/keras/backend/tensorflow_backend.py:4267: The name tf.nn.max_pool is deprecated. Please use tf.nn.max_pool2d instead.\n",
            "\n",
            "WARNING:tensorflow:From /usr/local/lib/python3.6/dist-packages/keras/backend/tensorflow_backend.py:3733: calling dropout (from tensorflow.python.ops.nn_ops) with keep_prob is deprecated and will be removed in a future version.\n",
            "Instructions for updating:\n",
            "Please use `rate` instead of `keep_prob`. Rate should be set to `rate = 1 - keep_prob`.\n",
            "WARNING:tensorflow:From /usr/local/lib/python3.6/dist-packages/keras/backend/tensorflow_backend.py:190: The name tf.get_default_session is deprecated. Please use tf.compat.v1.get_default_session instead.\n",
            "\n",
            "WARNING:tensorflow:From /usr/local/lib/python3.6/dist-packages/keras/backend/tensorflow_backend.py:197: The name tf.ConfigProto is deprecated. Please use tf.compat.v1.ConfigProto instead.\n",
            "\n",
            "WARNING:tensorflow:From /usr/local/lib/python3.6/dist-packages/keras/backend/tensorflow_backend.py:203: The name tf.Session is deprecated. Please use tf.compat.v1.Session instead.\n",
            "\n",
            "WARNING:tensorflow:From /usr/local/lib/python3.6/dist-packages/keras/backend/tensorflow_backend.py:207: The name tf.global_variables is deprecated. Please use tf.compat.v1.global_variables instead.\n",
            "\n",
            "WARNING:tensorflow:From /usr/local/lib/python3.6/dist-packages/keras/backend/tensorflow_backend.py:216: The name tf.is_variable_initialized is deprecated. Please use tf.compat.v1.is_variable_initialized instead.\n",
            "\n",
            "WARNING:tensorflow:From /usr/local/lib/python3.6/dist-packages/keras/backend/tensorflow_backend.py:223: The name tf.variables_initializer is deprecated. Please use tf.compat.v1.variables_initializer instead.\n",
            "\n",
            "WARNING:tensorflow:From /usr/local/lib/python3.6/dist-packages/keras/optimizers.py:793: The name tf.train.Optimizer is deprecated. Please use tf.compat.v1.train.Optimizer instead.\n",
            "\n",
            "WARNING:tensorflow:From /usr/local/lib/python3.6/dist-packages/keras/backend/tensorflow_backend.py:3576: The name tf.log is deprecated. Please use tf.math.log instead.\n",
            "\n",
            "WARNING:tensorflow:From /usr/local/lib/python3.6/dist-packages/tensorflow_core/python/ops/math_grad.py:1424: where (from tensorflow.python.ops.array_ops) is deprecated and will be removed in a future version.\n",
            "Instructions for updating:\n",
            "Use tf.where in 2.0, which has the same broadcast rule as np.where\n",
            "WARNING:tensorflow:From /usr/local/lib/python3.6/dist-packages/keras/backend/tensorflow_backend.py:1033: The name tf.assign_add is deprecated. Please use tf.compat.v1.assign_add instead.\n",
            "\n",
            "WARNING:tensorflow:From /usr/local/lib/python3.6/dist-packages/keras/backend/tensorflow_backend.py:1020: The name tf.assign is deprecated. Please use tf.compat.v1.assign instead.\n",
            "\n",
            "Train on 28699 samples, validate on 3587 samples\n",
            "Epoch 1/5\n",
            "28699/28699 [==============================] - 16s 559us/step - loss: 3.0119 - acc: 0.4245 - val_loss: 2.3410 - val_acc: 0.4926\n",
            "Epoch 2/5\n",
            "28699/28699 [==============================] - 9s 324us/step - loss: 2.0597 - acc: 0.6205 - val_loss: 1.7731 - val_acc: 0.7332\n",
            "Epoch 3/5\n",
            "28699/28699 [==============================] - 9s 327us/step - loss: 1.6630 - acc: 0.7697 - val_loss: 1.5211 - val_acc: 0.8311\n",
            "Epoch 4/5\n",
            "28699/28699 [==============================] - 9s 323us/step - loss: 1.4387 - acc: 0.8435 - val_loss: 1.3760 - val_acc: 0.8500\n",
            "Epoch 5/5\n",
            "28699/28699 [==============================] - 9s 327us/step - loss: 1.2806 - acc: 0.8791 - val_loss: 1.2425 - val_acc: 0.8798\n",
            "Train on 28699 samples, validate on 3587 samples\n",
            "Epoch 1/99\n",
            "28699/28699 [==============================] - 13s 452us/step - loss: 1.1632 - acc: 0.9047 - val_loss: 1.1327 - val_acc: 0.9035\n",
            "Epoch 2/99\n",
            "28699/28699 [==============================] - 9s 322us/step - loss: 1.0802 - acc: 0.9188 - val_loss: 1.0593 - val_acc: 0.9194\n",
            "Epoch 3/99\n",
            "28699/28699 [==============================] - 9s 322us/step - loss: 1.0097 - acc: 0.9317 - val_loss: 1.0880 - val_acc: 0.8921\n",
            "Epoch 4/99\n",
            "28699/28699 [==============================] - 9s 325us/step - loss: 0.9566 - acc: 0.9382 - val_loss: 0.9921 - val_acc: 0.9158\n",
            "Epoch 5/99\n",
            "28699/28699 [==============================] - 9s 321us/step - loss: 0.9031 - acc: 0.9462 - val_loss: 0.9213 - val_acc: 0.9303\n",
            "Epoch 6/99\n",
            "28699/28699 [==============================] - 9s 326us/step - loss: 0.8594 - acc: 0.9504 - val_loss: 0.9261 - val_acc: 0.9183\n",
            "Epoch 7/99\n",
            "28699/28699 [==============================] - 9s 327us/step - loss: 0.8301 - acc: 0.9502 - val_loss: 0.9081 - val_acc: 0.9136\n",
            "Epoch 8/99\n",
            "28699/28699 [==============================] - 9s 325us/step - loss: 0.7881 - acc: 0.9567 - val_loss: 0.9605 - val_acc: 0.8896\n",
            "Epoch 9/99\n",
            "28699/28699 [==============================] - 9s 322us/step - loss: 0.7856 - acc: 0.9469 - val_loss: 0.8098 - val_acc: 0.9345\n",
            "Epoch 10/99\n",
            "28699/28699 [==============================] - 9s 320us/step - loss: 0.7342 - acc: 0.9602 - val_loss: 0.8111 - val_acc: 0.9275\n",
            "Epoch 11/99\n",
            "28699/28699 [==============================] - 9s 322us/step - loss: 0.7104 - acc: 0.9608 - val_loss: 0.7438 - val_acc: 0.9445\n",
            "Epoch 12/99\n",
            "28699/28699 [==============================] - 9s 323us/step - loss: 0.6875 - acc: 0.9633 - val_loss: 0.8902 - val_acc: 0.8899\n",
            "Epoch 13/99\n",
            "28699/28699 [==============================] - 9s 322us/step - loss: 0.6581 - acc: 0.9682 - val_loss: 0.7429 - val_acc: 0.9339\n",
            "Epoch 14/99\n",
            "28699/28699 [==============================] - 9s 323us/step - loss: 0.6323 - acc: 0.9717 - val_loss: 0.7214 - val_acc: 0.9342\n",
            "Epoch 15/99\n",
            "28699/28699 [==============================] - 9s 324us/step - loss: 0.6124 - acc: 0.9729 - val_loss: 0.7375 - val_acc: 0.9267\n",
            "Epoch 16/99\n",
            "28699/28699 [==============================] - 9s 319us/step - loss: 0.5891 - acc: 0.9753 - val_loss: 0.7167 - val_acc: 0.9253\n",
            "Epoch 17/99\n",
            "28699/28699 [==============================] - 9s 319us/step - loss: 0.5719 - acc: 0.9756 - val_loss: 0.6902 - val_acc: 0.9325\n",
            "Epoch 18/99\n",
            "28699/28699 [==============================] - 9s 325us/step - loss: 0.5691 - acc: 0.9703 - val_loss: 0.8584 - val_acc: 0.8743\n",
            "Epoch 19/99\n",
            "28699/28699 [==============================] - 9s 324us/step - loss: 0.5527 - acc: 0.9710 - val_loss: 0.6584 - val_acc: 0.9342\n",
            "Epoch 20/99\n",
            "28699/28699 [==============================] - 9s 326us/step - loss: 0.5230 - acc: 0.9784 - val_loss: 0.8123 - val_acc: 0.8874\n",
            "Epoch 21/99\n",
            "28699/28699 [==============================] - 9s 323us/step - loss: 0.5041 - acc: 0.9807 - val_loss: 0.5857 - val_acc: 0.9468\n",
            "Epoch 22/99\n",
            "28699/28699 [==============================] - 9s 322us/step - loss: 0.5110 - acc: 0.9726 - val_loss: 0.5743 - val_acc: 0.9493\n",
            "Epoch 23/99\n",
            "28699/28699 [==============================] - 9s 323us/step - loss: 0.4824 - acc: 0.9802 - val_loss: 0.9111 - val_acc: 0.8542\n",
            "Epoch 24/99\n",
            "28699/28699 [==============================] - 9s 323us/step - loss: 0.4701 - acc: 0.9810 - val_loss: 0.5666 - val_acc: 0.9445\n",
            "Epoch 25/99\n",
            "28699/28699 [==============================] - 9s 320us/step - loss: 0.4574 - acc: 0.9828 - val_loss: 0.8360 - val_acc: 0.8662\n",
            "Epoch 26/99\n",
            "28699/28699 [==============================] - 9s 321us/step - loss: 0.4387 - acc: 0.9858 - val_loss: 0.6661 - val_acc: 0.9161\n",
            "Epoch 27/99\n",
            "28699/28699 [==============================] - 9s 324us/step - loss: 0.4278 - acc: 0.9864 - val_loss: 0.7828 - val_acc: 0.8801\n",
            "Epoch 28/99\n",
            "28699/28699 [==============================] - 9s 321us/step - loss: 0.4138 - acc: 0.9897 - val_loss: 0.5188 - val_acc: 0.9493\n",
            "Epoch 29/99\n",
            "28699/28699 [==============================] - 9s 320us/step - loss: 0.4112 - acc: 0.9856 - val_loss: 0.7834 - val_acc: 0.8779\n",
            "Epoch 30/99\n",
            "28699/28699 [==============================] - 9s 322us/step - loss: 0.3965 - acc: 0.9886 - val_loss: 0.6237 - val_acc: 0.9175\n",
            "Epoch 31/99\n",
            "28699/28699 [==============================] - 9s 322us/step - loss: 0.3813 - acc: 0.9927 - val_loss: 0.7763 - val_acc: 0.8740\n",
            "Epoch 32/99\n",
            "28699/28699 [==============================] - 9s 323us/step - loss: 0.3740 - acc: 0.9913 - val_loss: 0.7641 - val_acc: 0.8821\n",
            "Epoch 33/99\n",
            "28699/28699 [==============================] - 9s 324us/step - loss: 0.3736 - acc: 0.9876 - val_loss: 0.6868 - val_acc: 0.8996\n",
            "Train on 28699 samples, validate on 3587 samples\n",
            "Epoch 1/99\n",
            "28699/28699 [==============================] - 12s 415us/step - loss: 0.4092 - acc: 0.9875 - val_loss: 0.4594 - val_acc: 0.9654\n",
            "Epoch 2/99\n",
            "28699/28699 [==============================] - 9s 321us/step - loss: 0.3971 - acc: 0.9906 - val_loss: 0.5352 - val_acc: 0.9431\n",
            "Epoch 3/99\n",
            "28699/28699 [==============================] - 9s 322us/step - loss: 0.3860 - acc: 0.9924 - val_loss: 0.5144 - val_acc: 0.9456\n",
            "Epoch 4/99\n",
            "28699/28699 [==============================] - 9s 322us/step - loss: 0.3769 - acc: 0.9934 - val_loss: 0.4820 - val_acc: 0.9532\n",
            "Epoch 5/99\n",
            "28699/28699 [==============================] - 9s 325us/step - loss: 0.3678 - acc: 0.9947 - val_loss: 0.4960 - val_acc: 0.9484\n",
            "Epoch 6/99\n",
            "28699/28699 [==============================] - 9s 331us/step - loss: 0.3644 - acc: 0.9934 - val_loss: 0.5903 - val_acc: 0.9244\n",
            "===Evaluation===\n",
            "3588/3588 [==============================] - 17s 5ms/step\n"
          ],
          "name": "stdout"
        },
        {
          "output_type": "execute_result",
          "data": {
            "text/plain": [
              "[0.4546111916817949, 0.9690635451505016]"
            ]
          },
          "metadata": {
            "tags": []
          },
          "execution_count": 7
        }
      ]
    },
    {
      "cell_type": "code",
      "metadata": {
        "id": "iitJiRyFrRH8",
        "colab_type": "code",
        "colab": {}
      },
      "source": [
        "# Model are saved and made available on github\n",
        "model.save('./gdrive/My Drive/DL/Style/model_base.h5')"
      ],
      "execution_count": 0,
      "outputs": []
    },
    {
      "cell_type": "code",
      "metadata": {
        "id": "1kBKKxGbfWx_",
        "colab_type": "code",
        "outputId": "a044a706-3d80-4a05-bda9-c5b5a4f4bb75",
        "colab": {
          "base_uri": "https://localhost:8080/",
          "height": 683
        }
      },
      "source": [
        "# Test demo using donor texts, results are stored on github\n",
        "from keras.models import load_model\n",
        "model = load_model('./gdrive/My Drive/DL/Style/model_base.h5', custom_objects={'LayerNormalization': LayerNormalization})"
      ],
      "execution_count": 0,
      "outputs": [
        {
          "output_type": "stream",
          "text": [
            "WARNING:tensorflow:From /usr/local/lib/python3.6/dist-packages/keras/backend/tensorflow_backend.py:541: The name tf.placeholder is deprecated. Please use tf.compat.v1.placeholder instead.\n",
            "\n",
            "WARNING:tensorflow:From /usr/local/lib/python3.6/dist-packages/keras/backend/tensorflow_backend.py:66: The name tf.get_default_graph is deprecated. Please use tf.compat.v1.get_default_graph instead.\n",
            "\n",
            "WARNING:tensorflow:From /usr/local/lib/python3.6/dist-packages/keras/backend/tensorflow_backend.py:4432: The name tf.random_uniform is deprecated. Please use tf.random.uniform instead.\n",
            "\n",
            "WARNING:tensorflow:From /usr/local/lib/python3.6/dist-packages/keras/backend/tensorflow_backend.py:4479: The name tf.truncated_normal is deprecated. Please use tf.random.truncated_normal instead.\n",
            "\n",
            "WARNING:tensorflow:From /usr/local/lib/python3.6/dist-packages/keras/backend/tensorflow_backend.py:148: The name tf.placeholder_with_default is deprecated. Please use tf.compat.v1.placeholder_with_default instead.\n",
            "\n",
            "WARNING:tensorflow:From /usr/local/lib/python3.6/dist-packages/keras/backend/tensorflow_backend.py:4267: The name tf.nn.max_pool is deprecated. Please use tf.nn.max_pool2d instead.\n",
            "\n",
            "WARNING:tensorflow:From /usr/local/lib/python3.6/dist-packages/keras/backend/tensorflow_backend.py:3733: calling dropout (from tensorflow.python.ops.nn_ops) with keep_prob is deprecated and will be removed in a future version.\n",
            "Instructions for updating:\n",
            "Please use `rate` instead of `keep_prob`. Rate should be set to `rate = 1 - keep_prob`.\n",
            "WARNING:tensorflow:From /usr/local/lib/python3.6/dist-packages/keras/backend/tensorflow_backend.py:190: The name tf.get_default_session is deprecated. Please use tf.compat.v1.get_default_session instead.\n",
            "\n",
            "WARNING:tensorflow:From /usr/local/lib/python3.6/dist-packages/keras/backend/tensorflow_backend.py:197: The name tf.ConfigProto is deprecated. Please use tf.compat.v1.ConfigProto instead.\n",
            "\n",
            "WARNING:tensorflow:From /usr/local/lib/python3.6/dist-packages/keras/backend/tensorflow_backend.py:203: The name tf.Session is deprecated. Please use tf.compat.v1.Session instead.\n",
            "\n",
            "WARNING:tensorflow:From /usr/local/lib/python3.6/dist-packages/keras/backend/tensorflow_backend.py:207: The name tf.global_variables is deprecated. Please use tf.compat.v1.global_variables instead.\n",
            "\n",
            "WARNING:tensorflow:From /usr/local/lib/python3.6/dist-packages/keras/backend/tensorflow_backend.py:216: The name tf.is_variable_initialized is deprecated. Please use tf.compat.v1.is_variable_initialized instead.\n",
            "\n",
            "WARNING:tensorflow:From /usr/local/lib/python3.6/dist-packages/keras/backend/tensorflow_backend.py:223: The name tf.variables_initializer is deprecated. Please use tf.compat.v1.variables_initializer instead.\n",
            "\n",
            "WARNING:tensorflow:From /usr/local/lib/python3.6/dist-packages/keras/optimizers.py:793: The name tf.train.Optimizer is deprecated. Please use tf.compat.v1.train.Optimizer instead.\n",
            "\n",
            "WARNING:tensorflow:From /usr/local/lib/python3.6/dist-packages/keras/backend/tensorflow_backend.py:3576: The name tf.log is deprecated. Please use tf.math.log instead.\n",
            "\n",
            "WARNING:tensorflow:From /usr/local/lib/python3.6/dist-packages/tensorflow_core/python/ops/math_grad.py:1424: where (from tensorflow.python.ops.array_ops) is deprecated and will be removed in a future version.\n",
            "Instructions for updating:\n",
            "Use tf.where in 2.0, which has the same broadcast rule as np.where\n",
            "WARNING:tensorflow:From /usr/local/lib/python3.6/dist-packages/keras/backend/tensorflow_backend.py:1033: The name tf.assign_add is deprecated. Please use tf.compat.v1.assign_add instead.\n",
            "\n",
            "WARNING:tensorflow:From /usr/local/lib/python3.6/dist-packages/keras/backend/tensorflow_backend.py:1020: The name tf.assign is deprecated. Please use tf.compat.v1.assign instead.\n",
            "\n"
          ],
          "name": "stdout"
        }
      ]
    },
    {
      "cell_type": "code",
      "metadata": {
        "id": "RdHuC1SWFq5c",
        "colab_type": "code",
        "colab": {}
      },
      "source": [
        "PATH = './gdrive/My Drive/DL/Style/donor.csv'\n",
        "dn = pd.read_csv(PATH)\n",
        "\n",
        "X_ts = dn.text.astype('str')\n",
        "y_ts = dn.author.astype('category')\n",
        "\n",
        "tokenizer.fit_on_texts(X_ts) \n",
        "sequences = tokenizer.texts_to_sequences(X_ts) \n",
        "# word_index = tokenizer.word_index \n",
        "\n",
        "X_ts = pad_sequences(sequences, maxlen=maxlen, truncating=\"post\")\n",
        "\n",
        "y_ts = np.asarray(y_ts)\n",
        "onehot_encoder = OneHotEncoder(sparse=False)\n",
        "encoded = y_ts.reshape(len(y_ts), 1)\n",
        "y_ts = onehot_encoder.fit_transform(encoded)\n",
        "\n",
        "yhat = model.predict(X_ts)"
      ],
      "execution_count": 0,
      "outputs": []
    },
    {
      "cell_type": "code",
      "metadata": {
        "id": "FDb74fBOgDob",
        "colab_type": "code",
        "colab": {}
      },
      "source": [
        "# CS230/outputs/Rand-donor-text (original)\n",
        "txt1 = [\"She sat at the window of the train, her head thrown back, one leg stretched across to the empty seat before her. The window frame trembled with the speed of the motion, the pane hung over empty darkness, and dots of light slashed across the glass as luminous streaks, once in a while.\", \n",
        "        \"Her leg, sculptured by the tight sheen of the stocking, its long line running straight, over an arched instep, to the tip of a foot in a high-heeled pump, had a feminine elegance that seemed out of place in the dusty train car and oddly incongruous with the rest of her.\", \n",
        "        \"She wore a battered camel's hair coat that had been expensive, wrapped shapelessly about her slender, nervous body. The coat collar was raised to the slanting brim of her hat. A sweep of brown hair fell back, almost touching the line of her shoulders.\", \n",
        "        \"Her face was made of angular planes, the shape of her mouth clear-cut, a sensual mouth held closed with inflexible precision. She kept her hands in the coat pockets, her posture taut, as if she resented immobility, and unfeminine, as if she were unconscious of her own body and that it was a woman's body.\", \n",
        "        \"She sat listening to the music. It was a symphony of triumph. The notes flowed up, they spoke of rising and they were the rising itself, they were the essence and the form of upward motion, they seemed to embody every human act and thought that had ascent as its motive.\", \n",
        "        \"It was a sunburst of sound, breaking out of hiding and spreading open. It had the freedom of release and the tension of purpose. It swept space clean, and left nothing but the joy of an unobstructed effort.\", \n",
        "        \"Only a faint echo within the sounds spoke of that from which the music had escaped, but spoke in laughing astonishment at the discovery that there was no ugliness or pain, and there never had had to be. It was the song of an immense deliverance.\"]\n",
        "\n",
        "# CS230/outputs/Rand_117M_10000_Nabokov-All-3.txt\n",
        "txt2 = [\"She sat at the window of the train, sighing as she did that, but then she got up and move to the seat opposite her and sat there too, reclining. The window creaked as it swung into motion, the pane of the window half opened, and there was darkness again, and dots of light slashed across the glass as luminous streaks, once in a while.\", \n",
        "        \"Her leg, sculptured by the tight sheen of the stocking, its long line running straight, now stretched out to an angle, above the knee, to the tip of a foot in a high-heeled pump, had a feminine elegance that seemed out of place in the dusty train car and even more so because of the comical expression on her face.\",  \n",
        "        \"The calves of her high-heeled shoes were bare, and her bag was full of sand, wrapped shapelessly about her slender, nervous body. She put on the shoes, and the collar turned out to be long. A sweep of brown hair fell back, touching her left shoulder.\",  \n",
        "        \"Her forehead, cheek and all of her arms were those of a babushka, blush seeping into the spectrum of her cheeks, a sensual mouth held closed with inflexible precision. She straightened, fidgeted, brushed her bare arms with her handkerchief, and then her hand reached down, as if just barely, on her knees, for she had grabbed something and her face was quivering over a woman's body.\", \n",
        "        \"In the familiarity of the room, she looked up, relaxed. It was a symphony of triumph. The air was warmly flowing music, notes spoke of rising and they were the rising itself, they were the essence and the form of upward motion, and the closer they came, the more distinct and overwhelming became their conviction that if they attained.\",  \n",
        "        \"It was a sunburst of sound, breaking out of hiding and spreading open. It had the freedom of release and the tension of purpose. It swept space clean, and immediately the air, having at once filled with a tempestuous sigh.\",\n",
        "        \"The sonorous note of the sound grew and filled with its ominous premonition, but spoke in laughing astonishment at the discovery that there was no ugliness or pain in its every pronouncement. It was the song of an immense deliverance.\"]\n",
        "\n",
        "\n",
        "# CS230/outputs/Rand-output-ngram.txt\n",
        "txt3 = [\"She sat at the light of the draw, her one thrown behind, one leg stretched against to the empty seat before her. The light state trembled with the streak of the pass, the skin hung on let dark, and dots of light smashed across the stone so one streaks, once in a while.\",\n",
        "        \"Her foot, cut by the thin sheen of the stocking, its large print running straight, else an rounded foot, to the snap of a sum in a dear-heeled up, had a affected poetry that seemed past of time in the gray head van and oddly several with the bed of her.\", \n",
        "        \"She wore a battered mule's little hat that had been expensive, covered shapelessly about her little, emotional one. The face collar was formed to the garbling brim of her jacket. A reflection of do little down back, almost touching the line of her shoulders.\", \n",
        "        \"Her face was made of angular planes, the state of her tongue clear-except, a straight mouth new close with firm care. She kept her hand in the wash pockets, her turn taut, as if she resented standing, and offensive, so if she were dead of her own head and that it was a woman's body.\", \n",
        "        \"She sat ear to the music. It was a brass of skin. The notes flowed knight, they step of back and they were the rising her, they were the case and the form of upward stream, they seemed to connect every hand act and thought that had current how its motive.\",  \n",
        "        \"It was a sunburst of road, breaking apparently of destruction and spreading distributed. It had the freedom of release and the tension of reason. It swept field plain, and pink lightweight even the joy of an open crack.\",  \n",
        "        \"Merely a dim reply within the sounds check of that out which the arrangement had escaped, without spoke in laughing astonishment at the find that there was none ugliness or spasm, and there not had had to be. It was the lay of an gigantic issue.\"]\n",
        "\n",
        "def prepare_inputs(X): \n",
        "  tokenizer.fit_on_texts(X) \n",
        "  sequences = tokenizer.texts_to_sequences(X) \n",
        "  X = pad_sequences(sequences, maxlen=maxlen, truncating=\"post\")\n",
        "  return X\n",
        "\n",
        "X1 = prepare_inputs(txt1)\n",
        "X2 = prepare_inputs(txt2)\n",
        "X3 = prepare_inputs(txt3)"
      ],
      "execution_count": 0,
      "outputs": []
    },
    {
      "cell_type": "code",
      "metadata": {
        "id": "bwafSe_xljrS",
        "colab_type": "code",
        "outputId": "97536b2b-0167-4556-bd4e-62769648b9b8",
        "colab": {
          "base_uri": "https://localhost:8080/",
          "height": 527
        }
      },
      "source": [
        "yhat1 = model.predict(X1)\n",
        "yhat2 = model.predict(X2)\n",
        "yhat3 = model.predict(X3)\n",
        "\n",
        "# The Rand text looks extremely Nabokov-like for the model.\n",
        "print(yhat1)\n",
        "print('\\n', yhat2)\n",
        "print('\\n', yhat3)\n",
        "\n",
        "# We should expect a possitive number if the text style is tranferred to be more like Nabokov.\n",
        "print('\\n', yhat1[:, -1] - yhat2[:, -1])\n",
        "print('\\n', yhat1[:, -1] - yhat3[:, -1])"
      ],
      "execution_count": 0,
      "outputs": [
        {
          "output_type": "stream",
          "text": [
            "\n",
            " [[1.9874492e-06 1.5040224e-03 9.9849403e-01]\n",
            " [6.0623637e-07 2.0041092e-05 9.9997938e-01]\n",
            " [8.2889194e-08 1.6244162e-06 9.9999833e-01]\n",
            " [8.3698222e-04 1.6383591e-04 9.9899918e-01]\n",
            " [5.3102599e-04 2.1514185e-02 9.7795480e-01]\n",
            " [6.2312851e-05 1.2646959e-04 9.9981123e-01]\n",
            " [7.2156760e-04 4.0704547e-03 9.9520797e-01]]\n",
            "\n",
            " [[2.08121864e-03 2.50375215e-02 9.72881198e-01]\n",
            " [2.57652991e-05 1.79159618e-03 9.98182654e-01]\n",
            " [1.22583215e-05 7.13620238e-06 9.99980569e-01]\n",
            " [5.20651869e-04 6.49833382e-05 9.99414325e-01]\n",
            " [3.17843743e-02 7.82148913e-02 8.90000761e-01]\n",
            " [9.02135980e-06 5.02097129e-04 9.99488831e-01]\n",
            " [1.75791024e-06 1.64208643e-04 9.99834061e-01]]\n",
            "\n",
            " [[9.77837626e-05 2.66789142e-02 9.73223329e-01]\n",
            " [1.11950875e-07 4.16828925e-06 9.99995708e-01]\n",
            " [7.34423338e-07 3.48073104e-06 9.99995828e-01]\n",
            " [6.22700536e-05 1.05061314e-04 9.99832630e-01]\n",
            " [6.21210262e-02 5.43152587e-03 9.32447493e-01]\n",
            " [1.73683584e-05 2.58376695e-05 9.99956846e-01]\n",
            " [1.91121435e-04 2.90205772e-03 9.96906817e-01]]\n",
            "\n",
            " [ 2.5612831e-02  1.7967224e-03  1.7762184e-05 -4.1514635e-04\n",
            "  8.7954044e-02  3.2240152e-04 -4.6260953e-03]\n",
            "\n",
            " [ 2.5270700e-02 -1.6331673e-05  2.5033951e-06 -8.3345175e-04\n",
            "  4.5507312e-02 -1.4561415e-04 -1.6988516e-03]\n"
          ],
          "name": "stdout"
        }
      ]
    },
    {
      "cell_type": "code",
      "metadata": {
        "id": "oV7FbGYQUZQJ",
        "colab_type": "code",
        "colab": {}
      },
      "source": [
        "pd.DataFrame(y_ts, columns=['Austen', 'Dumas', 'Nabokov']).to_csv(r'./gdrive/My Drive/DL/Style/donor_y.csv', index=False)\n",
        "pd.DataFrame(yhat, columns=['Austen', 'Dumas', 'Nabokov']).to_csv(r'./gdrive/My Drive/DL/Style/donor_yhat.csv', index=False)"
      ],
      "execution_count": 0,
      "outputs": []
    },
    {
      "cell_type": "code",
      "metadata": {
        "id": "fpdxTyXpW0nF",
        "colab_type": "code",
        "outputId": "7102dd44-0084-4573-bf9f-acea52b81b46",
        "colab": {
          "base_uri": "https://localhost:8080/",
          "height": 377
        }
      },
      "source": [
        "!pip install transformers"
      ],
      "execution_count": 0,
      "outputs": [
        {
          "output_type": "stream",
          "text": [
            "Requirement already satisfied: transformers in /usr/local/lib/python3.6/dist-packages (2.1.1)\n",
            "Requirement already satisfied: boto3 in /usr/local/lib/python3.6/dist-packages (from transformers) (1.10.7)\n",
            "Requirement already satisfied: regex in /usr/local/lib/python3.6/dist-packages (from transformers) (2019.11.1)\n",
            "Requirement already satisfied: sacremoses in /usr/local/lib/python3.6/dist-packages (from transformers) (0.0.35)\n",
            "Requirement already satisfied: sentencepiece in /usr/local/lib/python3.6/dist-packages (from transformers) (0.1.83)\n",
            "Requirement already satisfied: tqdm in /usr/local/lib/python3.6/dist-packages (from transformers) (4.28.1)\n",
            "Requirement already satisfied: numpy in /usr/local/lib/python3.6/dist-packages (from transformers) (1.17.3)\n",
            "Requirement already satisfied: requests in /usr/local/lib/python3.6/dist-packages (from transformers) (2.21.0)\n",
            "Requirement already satisfied: botocore<1.14.0,>=1.13.7 in /usr/local/lib/python3.6/dist-packages (from boto3->transformers) (1.13.7)\n",
            "Requirement already satisfied: s3transfer<0.3.0,>=0.2.0 in /usr/local/lib/python3.6/dist-packages (from boto3->transformers) (0.2.1)\n",
            "Requirement already satisfied: jmespath<1.0.0,>=0.7.1 in /usr/local/lib/python3.6/dist-packages (from boto3->transformers) (0.9.4)\n",
            "Requirement already satisfied: click in /usr/local/lib/python3.6/dist-packages (from sacremoses->transformers) (7.0)\n",
            "Requirement already satisfied: joblib in /usr/local/lib/python3.6/dist-packages (from sacremoses->transformers) (0.14.0)\n",
            "Requirement already satisfied: six in /usr/local/lib/python3.6/dist-packages (from sacremoses->transformers) (1.12.0)\n",
            "Requirement already satisfied: certifi>=2017.4.17 in /usr/local/lib/python3.6/dist-packages (from requests->transformers) (2019.9.11)\n",
            "Requirement already satisfied: urllib3<1.25,>=1.21.1 in /usr/local/lib/python3.6/dist-packages (from requests->transformers) (1.24.3)\n",
            "Requirement already satisfied: idna<2.9,>=2.5 in /usr/local/lib/python3.6/dist-packages (from requests->transformers) (2.8)\n",
            "Requirement already satisfied: chardet<3.1.0,>=3.0.2 in /usr/local/lib/python3.6/dist-packages (from requests->transformers) (3.0.4)\n",
            "Requirement already satisfied: docutils<0.16,>=0.10 in /usr/local/lib/python3.6/dist-packages (from botocore<1.14.0,>=1.13.7->boto3->transformers) (0.15.2)\n",
            "Requirement already satisfied: python-dateutil<3.0.0,>=2.1; python_version >= \"2.7\" in /usr/local/lib/python3.6/dist-packages (from botocore<1.14.0,>=1.13.7->boto3->transformers) (2.6.1)\n"
          ],
          "name": "stdout"
        }
      ]
    },
    {
      "cell_type": "code",
      "metadata": {
        "id": "1nBI-APLi52p",
        "colab_type": "code",
        "outputId": "1e762075-f0a6-47ec-a49a-ef5ea44c2021",
        "colab": {
          "base_uri": "https://localhost:8080/",
          "height": 249
        }
      },
      "source": [
        "# DistilBert\n",
        "# from transformers import BertTokenizer, TFBertModel\n",
        "from transformers import TFDistilBertModel, DistilBertTokenizer\n",
        "\n",
        "tokenizer = DistilBertTokenizer.from_pretrained('distilbert-base-uncased')\n",
        "model = TFDistilBertModel.from_pretrained('distilbert-base-uncased')"
      ],
      "execution_count": 0,
      "outputs": [
        {
          "output_type": "stream",
          "text": [
            "100%|██████████| 363423424/363423424 [00:14<00:00, 25576232.17B/s]\n"
          ],
          "name": "stderr"
        },
        {
          "output_type": "error",
          "ename": "NameError",
          "evalue": "ignored",
          "traceback": [
            "\u001b[0;31m---------------------------------------------------------------------------\u001b[0m",
            "\u001b[0;31mNameError\u001b[0m                                 Traceback (most recent call last)",
            "\u001b[0;32m<ipython-input-4-c24c3fb737f4>\u001b[0m in \u001b[0;36m<module>\u001b[0;34m()\u001b[0m\n\u001b[1;32m      4\u001b[0m \u001b[0mmodel\u001b[0m \u001b[0;34m=\u001b[0m \u001b[0mTFDistilBertModel\u001b[0m\u001b[0;34m.\u001b[0m\u001b[0mfrom_pretrained\u001b[0m\u001b[0;34m(\u001b[0m\u001b[0;34m'distilbert-base-uncased'\u001b[0m\u001b[0;34m)\u001b[0m\u001b[0;34m\u001b[0m\u001b[0;34m\u001b[0m\u001b[0m\n\u001b[1;32m      5\u001b[0m \u001b[0;34m\u001b[0m\u001b[0m\n\u001b[0;32m----> 6\u001b[0;31m \u001b[0mX\u001b[0m \u001b[0;34m=\u001b[0m \u001b[0mdf\u001b[0m\u001b[0;34m.\u001b[0m\u001b[0mtext\u001b[0m\u001b[0;34m.\u001b[0m\u001b[0mastype\u001b[0m\u001b[0;34m(\u001b[0m\u001b[0;34m'str'\u001b[0m\u001b[0;34m)\u001b[0m\u001b[0;34m\u001b[0m\u001b[0;34m\u001b[0m\u001b[0m\n\u001b[0m\u001b[1;32m      7\u001b[0m \u001b[0my\u001b[0m \u001b[0;34m=\u001b[0m \u001b[0mdf\u001b[0m\u001b[0;34m.\u001b[0m\u001b[0mauthor\u001b[0m\u001b[0;34m.\u001b[0m\u001b[0mastype\u001b[0m\u001b[0;34m(\u001b[0m\u001b[0;34m'category'\u001b[0m\u001b[0;34m)\u001b[0m\u001b[0;34m\u001b[0m\u001b[0;34m\u001b[0m\u001b[0m\n\u001b[1;32m      8\u001b[0m \u001b[0;34m\u001b[0m\u001b[0m\n",
            "\u001b[0;31mNameError\u001b[0m: name 'df' is not defined"
          ]
        }
      ]
    },
    {
      "cell_type": "code",
      "metadata": {
        "id": "i4wz_TTSlgUI",
        "colab_type": "code",
        "outputId": "86a09ad3-d7e5-4e8a-ae09-4e9037826edb",
        "colab": {
          "base_uri": "https://localhost:8080/",
          "height": 375
        }
      },
      "source": [
        "X = df.text.astype('str')\n",
        "y = df.author.astype('category')\n",
        "\n",
        "tokenizer.tokenize(X) \n",
        "# sequences = tokenizer.texts_to_sequences(X) # list: string - numbers(indices)\n",
        "# word_index = tokenizer.word_index # dict: word - number(index)\n",
        "\n",
        "# # Furthermore, we need to pad the sequences so that their lengths are the same and do not exceed a specific maximum length.\n",
        "# maxlen = 256\n",
        "# X = pad_sequences(sequences, maxlen=maxlen, truncating=\"post\")\n",
        "\n",
        "# from sklearn.preprocessing import OneHotEncoder\n",
        "\n",
        "# # Transform the target authors to one-hot encoding\n",
        "# y = np.asarray(y)\n",
        "# onehot_encoder = OneHotEncoder(sparse=False)\n",
        "# encoded = y.reshape(len(y), 1)\n",
        "# y = onehot_encoder.fit_transform(encoded)\n",
        "\n",
        "# # Prepare training: Compile tf.keras model with optimizer, loss and learning rate schedule \n",
        "# optimizer = tf.keras.optimizers.Adam(learning_rate=3e-5, epsilon=1e-08, clipnorm=1.0)\n",
        "# loss = tf.keras.losses.SparseCategoricalCrossentropy(from_logits=True)\n",
        "# metric = tf.keras.metrics.SparseCategoricalAccuracy('accuracy')\n",
        "# model.compile(optimizer=optimizer, loss=loss, metrics=[metric])\n",
        "\n",
        "# # Train and evaluate using tf.keras.Model.fit()\n",
        "# history = model.fit(train_dataset, epochs=2, steps_per_epoch=115,\n",
        "#                     validation_data=valid_dataset, validation_steps=7)"
      ],
      "execution_count": 0,
      "outputs": [
        {
          "output_type": "error",
          "ename": "ValueError",
          "evalue": "ignored",
          "traceback": [
            "\u001b[0;31m---------------------------------------------------------------------------\u001b[0m",
            "\u001b[0;31mValueError\u001b[0m                                Traceback (most recent call last)",
            "\u001b[0;32m<ipython-input-11-2079bcf7cb7e>\u001b[0m in \u001b[0;36m<module>\u001b[0;34m()\u001b[0m\n\u001b[1;32m      2\u001b[0m \u001b[0my\u001b[0m \u001b[0;34m=\u001b[0m \u001b[0mdf\u001b[0m\u001b[0;34m.\u001b[0m\u001b[0mauthor\u001b[0m\u001b[0;34m.\u001b[0m\u001b[0mastype\u001b[0m\u001b[0;34m(\u001b[0m\u001b[0;34m'category'\u001b[0m\u001b[0;34m)\u001b[0m\u001b[0;34m\u001b[0m\u001b[0;34m\u001b[0m\u001b[0m\n\u001b[1;32m      3\u001b[0m \u001b[0;34m\u001b[0m\u001b[0m\n\u001b[0;32m----> 4\u001b[0;31m \u001b[0mtokenizer\u001b[0m\u001b[0;34m.\u001b[0m\u001b[0mtokenize\u001b[0m\u001b[0;34m(\u001b[0m\u001b[0mX\u001b[0m\u001b[0;34m)\u001b[0m\u001b[0;34m\u001b[0m\u001b[0;34m\u001b[0m\u001b[0m\n\u001b[0m\u001b[1;32m      5\u001b[0m \u001b[0;31m# sequences = tokenizer.texts_to_sequences(X) # list: string - numbers(indices)\u001b[0m\u001b[0;34m\u001b[0m\u001b[0;34m\u001b[0m\u001b[0;34m\u001b[0m\u001b[0m\n\u001b[1;32m      6\u001b[0m \u001b[0;31m# word_index = tokenizer.word_index # dict: word - number(index)\u001b[0m\u001b[0;34m\u001b[0m\u001b[0;34m\u001b[0m\u001b[0;34m\u001b[0m\u001b[0m\n",
            "\u001b[0;32m/usr/local/lib/python3.6/dist-packages/transformers/tokenization_utils.py\u001b[0m in \u001b[0;36mtokenize\u001b[0;34m(self, text, **kwargs)\u001b[0m\n\u001b[1;32m    647\u001b[0m \u001b[0;34m\u001b[0m\u001b[0m\n\u001b[1;32m    648\u001b[0m         \u001b[0madded_tokens\u001b[0m \u001b[0;34m=\u001b[0m \u001b[0mlist\u001b[0m\u001b[0;34m(\u001b[0m\u001b[0mself\u001b[0m\u001b[0;34m.\u001b[0m\u001b[0madded_tokens_encoder\u001b[0m\u001b[0;34m.\u001b[0m\u001b[0mkeys\u001b[0m\u001b[0;34m(\u001b[0m\u001b[0;34m)\u001b[0m\u001b[0;34m)\u001b[0m \u001b[0;34m+\u001b[0m \u001b[0mself\u001b[0m\u001b[0;34m.\u001b[0m\u001b[0mall_special_tokens\u001b[0m\u001b[0;34m\u001b[0m\u001b[0;34m\u001b[0m\u001b[0m\n\u001b[0;32m--> 649\u001b[0;31m         \u001b[0mtokenized_text\u001b[0m \u001b[0;34m=\u001b[0m \u001b[0msplit_on_tokens\u001b[0m\u001b[0;34m(\u001b[0m\u001b[0madded_tokens\u001b[0m\u001b[0;34m,\u001b[0m \u001b[0mtext\u001b[0m\u001b[0;34m)\u001b[0m\u001b[0;34m\u001b[0m\u001b[0;34m\u001b[0m\u001b[0m\n\u001b[0m\u001b[1;32m    650\u001b[0m         \u001b[0;32mreturn\u001b[0m \u001b[0mtokenized_text\u001b[0m\u001b[0;34m\u001b[0m\u001b[0;34m\u001b[0m\u001b[0m\n\u001b[1;32m    651\u001b[0m \u001b[0;34m\u001b[0m\u001b[0m\n",
            "\u001b[0;32m/usr/local/lib/python3.6/dist-packages/transformers/tokenization_utils.py\u001b[0m in \u001b[0;36msplit_on_tokens\u001b[0;34m(tok_list, text)\u001b[0m\n\u001b[1;32m    625\u001b[0m \u001b[0;34m\u001b[0m\u001b[0m\n\u001b[1;32m    626\u001b[0m         \u001b[0;32mdef\u001b[0m \u001b[0msplit_on_tokens\u001b[0m\u001b[0;34m(\u001b[0m\u001b[0mtok_list\u001b[0m\u001b[0;34m,\u001b[0m \u001b[0mtext\u001b[0m\u001b[0;34m)\u001b[0m\u001b[0;34m:\u001b[0m\u001b[0;34m\u001b[0m\u001b[0;34m\u001b[0m\u001b[0m\n\u001b[0;32m--> 627\u001b[0;31m             \u001b[0;32mif\u001b[0m \u001b[0;32mnot\u001b[0m \u001b[0mtext\u001b[0m\u001b[0;34m:\u001b[0m\u001b[0;34m\u001b[0m\u001b[0;34m\u001b[0m\u001b[0m\n\u001b[0m\u001b[1;32m    628\u001b[0m                 \u001b[0;32mreturn\u001b[0m \u001b[0;34m[\u001b[0m\u001b[0;34m]\u001b[0m\u001b[0;34m\u001b[0m\u001b[0;34m\u001b[0m\u001b[0m\n\u001b[1;32m    629\u001b[0m             \u001b[0;32mif\u001b[0m \u001b[0;32mnot\u001b[0m \u001b[0mtok_list\u001b[0m\u001b[0;34m:\u001b[0m\u001b[0;34m\u001b[0m\u001b[0;34m\u001b[0m\u001b[0m\n",
            "\u001b[0;32m/usr/local/lib/python3.6/dist-packages/pandas/core/generic.py\u001b[0m in \u001b[0;36m__nonzero__\u001b[0;34m(self)\u001b[0m\n\u001b[1;32m   1553\u001b[0m             \u001b[0;34m\"The truth value of a {0} is ambiguous. \"\u001b[0m\u001b[0;34m\u001b[0m\u001b[0;34m\u001b[0m\u001b[0m\n\u001b[1;32m   1554\u001b[0m             \"Use a.empty, a.bool(), a.item(), a.any() or a.all().\".format(\n\u001b[0;32m-> 1555\u001b[0;31m                 \u001b[0mself\u001b[0m\u001b[0;34m.\u001b[0m\u001b[0m__class__\u001b[0m\u001b[0;34m.\u001b[0m\u001b[0m__name__\u001b[0m\u001b[0;34m\u001b[0m\u001b[0;34m\u001b[0m\u001b[0m\n\u001b[0m\u001b[1;32m   1556\u001b[0m             )\n\u001b[1;32m   1557\u001b[0m         )\n",
            "\u001b[0;31mValueError\u001b[0m: The truth value of a Series is ambiguous. Use a.empty, a.bool(), a.item(), a.any() or a.all()."
          ]
        }
      ]
    },
    {
      "cell_type": "code",
      "metadata": {
        "id": "6pfHNb2Cn-5F",
        "colab_type": "code",
        "colab": {}
      },
      "source": [
        ""
      ],
      "execution_count": 0,
      "outputs": []
    }
  ]
}